{
  "cells": [
    {
      "cell_type": "markdown",
      "metadata": {
        "id": "view-in-github",
        "colab_type": "text"
      },
      "source": [
        "<a href=\"https://colab.research.google.com/github/dev-aprilchoi/projectmanager/blob/main/1_%ED%8C%8C%EC%9D%B4%EC%8D%AC%EA%B8%B0%EC%B4%88_04_%ED%95%A8%EC%88%98%EC%99%80%EB%AA%A8%EB%93%88_%EC%8B%A4%EC%8A%B5.ipynb\" target=\"_parent\"><img src=\"https://colab.research.google.com/assets/colab-badge.svg\" alt=\"Open In Colab\"/></a>"
      ]
    },
    {
      "cell_type": "markdown",
      "id": "25f81d8c",
      "metadata": {
        "id": "25f81d8c"
      },
      "source": [
        "# 파이썬 기초 다지기"
      ]
    },
    {
      "cell_type": "markdown",
      "id": "3f3da3bd",
      "metadata": {
        "id": "3f3da3bd"
      },
      "source": [
        "## 4- 함수와 모듈\n",
        "데이터 추상화하고 구조화하기"
      ]
    },
    {
      "cell_type": "code",
      "execution_count": null,
      "id": "b2055fa4",
      "metadata": {
        "id": "b2055fa4"
      },
      "outputs": [],
      "source": [
        "import random   # random.py (모듈)\n",
        "\n",
        "room = random.randint(1, 3)  # 1,2,3중에 임의의 수\n"
      ]
    },
    {
      "cell_type": "markdown",
      "id": "0c52a67e",
      "metadata": {
        "id": "0c52a67e"
      },
      "source": [
        "----------------------------------"
      ]
    },
    {
      "cell_type": "markdown",
      "id": "aee8f2e8",
      "metadata": {
        "id": "aee8f2e8"
      },
      "source": [
        "## 4-1.함수 < 모듈 < 패키기"
      ]
    },
    {
      "cell_type": "markdown",
      "id": "e89f3546",
      "metadata": {
        "id": "e89f3546"
      },
      "source": [
        "### 함수 정의하기"
      ]
    },
    {
      "cell_type": "code",
      "execution_count": null,
      "id": "4f161d86",
      "metadata": {
        "id": "4f161d86"
      },
      "outputs": [],
      "source": [
        "\n"
      ]
    },
    {
      "cell_type": "markdown",
      "id": "cb89ea65",
      "metadata": {
        "id": "cb89ea65"
      },
      "source": [
        "### 함수의 구조\n",
        "매개변수와 리턴값에 따른 함수의 유형 예"
      ]
    },
    {
      "cell_type": "markdown",
      "id": "8acceb64",
      "metadata": {
        "id": "8acceb64"
      },
      "source": [
        "- 매개변수(X), 리턴값(X)"
      ]
    },
    {
      "cell_type": "code",
      "execution_count": null,
      "id": "57a55c92",
      "metadata": {
        "id": "57a55c92"
      },
      "outputs": [],
      "source": [
        "def func():\n",
        "    print('안녕하세요!')\n",
        "\n",
        "print( func() )"
      ]
    },
    {
      "cell_type": "markdown",
      "id": "aba4c5e6",
      "metadata": {
        "id": "aba4c5e6"
      },
      "source": [
        "- 매개변수(X), 리턴값(O)"
      ]
    },
    {
      "cell_type": "code",
      "execution_count": null,
      "id": "aa699b58",
      "metadata": {
        "id": "aa699b58"
      },
      "outputs": [],
      "source": [
        "def func():\n",
        "    print('안녕하세요!')\n",
        "    return '처리완료!'\n",
        "\n",
        "print( func() )"
      ]
    },
    {
      "cell_type": "markdown",
      "id": "21f24a11",
      "metadata": {
        "id": "21f24a11"
      },
      "source": [
        "- 매개변수(O), 리턴값(X)"
      ]
    },
    {
      "cell_type": "code",
      "execution_count": null,
      "id": "f1c1db85",
      "metadata": {
        "id": "f1c1db85"
      },
      "outputs": [],
      "source": [
        "def func(a, b):\n",
        "    print('덧셈: %d + %d = %d' % (a, b, a+b))\n",
        "\n",
        "print( func(5, 7) )"
      ]
    },
    {
      "cell_type": "markdown",
      "id": "c80d6c02",
      "metadata": {
        "id": "c80d6c02"
      },
      "source": [
        "- 매개변수(O), 리턴값(O)"
      ]
    },
    {
      "cell_type": "code",
      "execution_count": null,
      "id": "d6d46e65",
      "metadata": {
        "id": "d6d46e65"
      },
      "outputs": [],
      "source": [
        "def func(a, b):\n",
        "    print('덧셈: %d + %d = %d' % (a, b, a+b))\n",
        "    return a+b\n",
        "\n",
        "print( func(5, 7) )"
      ]
    },
    {
      "cell_type": "markdown",
      "id": "fbe6e1c6",
      "metadata": {
        "id": "fbe6e1c6"
      },
      "source": [
        "### [실습문제] 암스트롱수 구하기\n",
        "다음 조건을 참고하여 암스트롱수를 구하는 함수를 만들어 출력하는 프로그램을 만들어 보세요.\n",
        "- **암스트롱수** : 세 자리의 정수 중에서 각 자리의 수를 세 제곱한 수의 합과 자신이 같은 수"
      ]
    },
    {
      "cell_type": "code",
      "execution_count": 1,
      "id": "3c387d60",
      "metadata": {
        "colab": {
          "base_uri": "https://localhost:8080/"
        },
        "id": "3c387d60",
        "outputId": "8669eb60-43bb-43e1-f261-986928a49ea7"
      },
      "outputs": [
        {
          "output_type": "stream",
          "name": "stdout",
          "text": [
            "[153] is armstrong number!\n",
            "[370] is armstrong number!\n",
            "[371] is armstrong number!\n",
            "[407] is armstrong number!\n"
          ]
        }
      ],
      "source": [
        "def is_arm(N):  # 암스트롱 수 찾는 함수\n",
        "    n = str(N)    # 정수를 문자열로 변환\n",
        "    a = int(n[0]) # 100의 자리수\n",
        "    b = int(n[1]) # 10의 자리수\n",
        "    c = int(n[2]) # 1의 자리수\n",
        "    if N == (a**3 + b**3 + c**3):  # 암스트롱수의 조건\n",
        "        return True\n",
        "    else:\n",
        "        return False\n",
        "\n",
        "for i in range(100, 1000):\n",
        "    if is_arm(i):\n",
        "        print(f'[{i}] is armstrong number!')\n"
      ]
    },
    {
      "cell_type": "markdown",
      "id": "a78bd48d",
      "metadata": {
        "id": "a78bd48d"
      },
      "source": [
        "### [실습문제]\n",
        "앞에서 만든 커피 자동주문 머신 프로그램을 함수를 이용하여 만들어 보세요."
      ]
    },
    {
      "cell_type": "code",
      "execution_count": 2,
      "id": "ea29d25d",
      "metadata": {
        "colab": {
          "base_uri": "https://localhost:8080/"
        },
        "id": "ea29d25d",
        "outputId": "4a8555e3-7dfe-4a84-f6d6-f4d5626f0e76"
      },
      "outputs": [
        {
          "output_type": "stream",
          "name": "stdout",
          "text": [
            "[커피 자동주문 머신 메뉴]\n",
            "------------------------------\n",
            "-아메리카노는 2500원\n",
            "-카레라떼는 3000원\n",
            "-카푸치노는 3000원\n",
            "입니다. 원하시는 커피종류와 잔수를 입력하세요.\n",
            "------------------------------\n",
            "아메리카노 몇잔?: 3\n",
            "카페라떼 몇잔?: 2\n",
            "카푸치노 몇잔?: 4\n",
            "지불할 총 금액은  25500 원 입니다\n",
            "--------------------------------------------------\n",
            "[지불할 금액:25500] : 돈을 넣어주세요: 50000\n",
            "거스름돈은 24500원 입니다.\n",
            "--------------------------------------------------\n",
            " 커피 맛있게 드세요.\n"
          ]
        }
      ],
      "source": [
        "def coffeeMachine(coffee1, coffee2, coffee3):\n",
        "\n",
        "    total = coffee1*2500 + coffee2*3000 + coffee3*3000\n",
        "    print(\"지불할 총 금액은 \", total, \"원 입니다\")\n",
        "\n",
        "    while True:\n",
        "        print('-'*50)\n",
        "        money = int(input(f'[지불할 금액:{total}] : 돈을 넣어주세요: '))\n",
        "        if total > money  :\n",
        "            print(f'입력한 금액이 부족합니다. {total - money} 원을 더 넣어주세요.')\n",
        "            total = total - money\n",
        "        else:\n",
        "            print(f'거스름돈은 {money - total}원 입니다.')\n",
        "            break\n",
        "\n",
        "    print('-'*50)\n",
        "    print(' 커피 맛있게 드세요.')\n",
        "\n",
        "menu = '''[커피 자동주문 머신 메뉴]\n",
        "------------------------------\n",
        "-아메리카노는 2500원\n",
        "-카레라떼는 3000원\n",
        "-카푸치노는 3000원\n",
        "입니다. 원하시는 커피종류와 잔수를 입력하세요.\n",
        "------------------------------'''\n",
        "print(menu)\n",
        "coffee1 = int(input(\"아메리카노 몇잔?: \"))\n",
        "coffee2 = int(input(\"카페라떼 몇잔?: \"))\n",
        "coffee3 = int(input(\"카푸치노 몇잔?: \"))\n",
        "\n",
        "coffeeMachine(coffee1, coffee2, coffee3)    # 함수 호출"
      ]
    },
    {
      "cell_type": "markdown",
      "id": "45e329e4",
      "metadata": {
        "id": "45e329e4"
      },
      "source": [
        "------------------------"
      ]
    },
    {
      "cell_type": "markdown",
      "source": [
        "### lambda( )\n",
        "한 줄로 간단하게 만들어 주는 함수, 일시적인 함수"
      ],
      "metadata": {
        "id": "odH71k2FYE8_"
      },
      "id": "odH71k2FYE8_"
    },
    {
      "cell_type": "code",
      "source": [
        "def hap(num1,num2):\n",
        "    res = num1 + num2\n",
        "    return res\n",
        "\n",
        "print(hap(10,20))"
      ],
      "metadata": {
        "colab": {
          "base_uri": "https://localhost:8080/"
        },
        "id": "CBI5bwOxYW67",
        "outputId": "dbdf38a3-0d05-424a-9c2e-5cfb76620dce"
      },
      "id": "CBI5bwOxYW67",
      "execution_count": 5,
      "outputs": [
        {
          "output_type": "stream",
          "name": "stdout",
          "text": [
            "30\n"
          ]
        }
      ]
    },
    {
      "cell_type": "code",
      "source": [
        "hap = lambda num1, num2: num1 + num2\n",
        "\n",
        "print(hap(10,20))"
      ],
      "metadata": {
        "id": "9siULrDiYMOX"
      },
      "id": "9siULrDiYMOX",
      "execution_count": null,
      "outputs": []
    },
    {
      "cell_type": "markdown",
      "source": [
        "### enumerate( )"
      ],
      "metadata": {
        "id": "22RrbF7LZjcu"
      },
      "id": "22RrbF7LZjcu"
    },
    {
      "cell_type": "code",
      "source": [
        "mylist = [100,200,300,400,500]\n",
        "\n",
        "def add10(num):\n",
        "    return num+10\n",
        "\n",
        "for idx, i in enumerate(mylist):    # enumerate() 인덱스 값을 함께 사용할 수 있는 함수\n",
        "    # print(idx, i,add10(i))\n",
        "    mylist[idx] = add10(i)  # 리스트의 값을 add10()함수가 적용된 값으로 교체함.\n",
        "print(mylist)\n"
      ],
      "metadata": {
        "colab": {
          "base_uri": "https://localhost:8080/"
        },
        "id": "-N4OO6YdZnLr",
        "outputId": "1e68893c-4ab0-477d-f2cf-9abeded22f78"
      },
      "id": "-N4OO6YdZnLr",
      "execution_count": 9,
      "outputs": [
        {
          "output_type": "stream",
          "name": "stdout",
          "text": [
            "[110, 210, 310, 410, 510]\n"
          ]
        }
      ]
    },
    {
      "cell_type": "markdown",
      "source": [
        "lambda( ) & map( ) 으로 구조를 간단하게 만들기"
      ],
      "metadata": {
        "id": "Y7iDj9NdbHfA"
      },
      "id": "Y7iDj9NdbHfA"
    },
    {
      "cell_type": "code",
      "source": [
        "mylist = [100,200,300,400,500]\n",
        "\n",
        "add10 = lambda num: num+10  # lamda() 함수로 변경\n",
        "mylist = (list(map(add10, mylist)))\n",
        "print(mylist)"
      ],
      "metadata": {
        "colab": {
          "base_uri": "https://localhost:8080/"
        },
        "id": "QDCAGVkrbKKZ",
        "outputId": "91c2af8f-e92e-43af-f242-a0096e9b03eb"
      },
      "id": "QDCAGVkrbKKZ",
      "execution_count": 14,
      "outputs": [
        {
          "output_type": "stream",
          "name": "stdout",
          "text": [
            "[110, 210, 310, 410, 510]\n"
          ]
        }
      ]
    },
    {
      "cell_type": "markdown",
      "source": [
        "### 컴프리핸션을 사용해 코드를 더 간소화할 수 있다"
      ],
      "metadata": {
        "id": "hYF0dsWAcseO"
      },
      "id": "hYF0dsWAcseO"
    },
    {
      "cell_type": "code",
      "source": [
        "[num+10 for num in mylist]"
      ],
      "metadata": {
        "colab": {
          "base_uri": "https://localhost:8080/"
        },
        "id": "1C2J4lQacTmc",
        "outputId": "511e1765-b66b-4d3e-dc8f-2f794de57f31"
      },
      "id": "1C2J4lQacTmc",
      "execution_count": 15,
      "outputs": [
        {
          "output_type": "execute_result",
          "data": {
            "text/plain": [
              "[120, 220, 320, 420, 520]"
            ]
          },
          "metadata": {},
          "execution_count": 15
        }
      ]
    },
    {
      "cell_type": "markdown",
      "source": [
        "### 과제 미션: 000 프로그램 만들기\n",
        "파이썬을 이용하여 그 동안 실습한 내용을 이용하여 자신이 만들고 싶은 프로그램을 만들어 봅니다. 수업시간에 실습했던 예제를 응용하여 000 프로그램으로 각자 자신이 할 수 있는 만큼 응용하고 변형하여 제출하시면 됩니다."
      ],
      "metadata": {
        "id": "mu0AQilZfFdH"
      },
      "id": "mu0AQilZfFdH"
    },
    {
      "cell_type": "code",
      "source": [
        "option = '''[Jay's FloorMaking Co.마루 시공 견적서]\n",
        "------------------------------------------------------------\n",
        "    목재 종류       목재 규격       장당 가격\n",
        "1) European oak     15cm * 2m       30000원\n",
        "2) American walnut  15cm * 2m       50000원\n",
        "3) Baltic pine      15cm * 2m       20000원\n",
        "입니다. 원하시는 목재와 공간의 넓이를 입력 해주세요.\n",
        "------------------------------------------------------------'''\n",
        "\n",
        "print(option)\n",
        "tree = int(input('옵션 1), 2), 3) 중 어떤 종류의 목재로 시공 해드릴까요? '))\n",
        "size = int(input('몇 ㎡ 공간의 마루를 시공 하시겠습니까? '))\n",
        "\n",
        "need = 0    # 초기식\n",
        "need = round(size/(0.15*2))\n",
        "print(f'{size}㎡ 공간에 마루를 시공하려면 총 {need} 장의 목재가 필요합니다.')\n",
        "print('-'*60)\n",
        "\n",
        "if tree == 1:\n",
        "    print(f'마루 시공의 총 견적은 {need*30000} 원 입니다.')\n",
        "elif tree == 2:\n",
        " print(f'마루 시공의 총 견적은 {need*50000} 원 입니다.')\n",
        "elif tree == 3:\n",
        " print(f'마루 시공의 총 견적은 {need*20000} 원 입니다.')\n",
        "\n",
        "print('-'*60)\n",
        "print(f'주문 해주셔서 감사합니다^^')\n"
      ],
      "metadata": {
        "colab": {
          "base_uri": "https://localhost:8080/"
        },
        "id": "r8IJ2XT_fMpv",
        "outputId": "14a02535-402a-4508-8086-5f3efc2921d5"
      },
      "id": "r8IJ2XT_fMpv",
      "execution_count": 23,
      "outputs": [
        {
          "output_type": "stream",
          "name": "stdout",
          "text": [
            "[Jay's FloorMaking Co.마루 시공 견적서]\n",
            "------------------------------------------------------------\n",
            "    목재 종류       목재 규격       장당 가격\n",
            "1) European oak     15cm * 2m       30000원\n",
            "2) American walnut  15cm * 2m       50000원\n",
            "3) Baltic pine      15cm * 2m       20000원\n",
            "입니다. 원하시는 목재와 공간의 넓이를 입력 해주세요.\n",
            "------------------------------------------------------------\n",
            "옵션 1), 2), 3) 중 어떤 종류의 목재로 시공 해드릴까요? 2\n",
            "몇 ㎡ 공간의 마루를 시공 하시겠습니까? 100\n",
            "100㎡ 공간에 마루를 시공하려면 총 333 장의 목재가 필요합니다.\n",
            "------------------------------------------------------------\n",
            "마루 시공의 총 견적은 16650000 원 입니다.\n",
            "------------------------------------------------------------\n",
            "주문 해주셔서 감사합니다^^\n"
          ]
        }
      ]
    },
    {
      "cell_type": "markdown",
      "id": "66025633",
      "metadata": {
        "id": "66025633"
      },
      "source": [
        "끝"
      ]
    }
  ],
  "metadata": {
    "kernelspec": {
      "display_name": "Python 3 (ipykernel)",
      "language": "python",
      "name": "python3"
    },
    "language_info": {
      "codemirror_mode": {
        "name": "ipython",
        "version": 3
      },
      "file_extension": ".py",
      "mimetype": "text/x-python",
      "name": "python",
      "nbconvert_exporter": "python",
      "pygments_lexer": "ipython3",
      "version": "3.10.9"
    },
    "vscode": {
      "interpreter": {
        "hash": "b41e41bff03a930185ac2cbea60ce521f7c8c2f5401ceb5c30214081f77ab4f5"
      }
    },
    "colab": {
      "provenance": [],
      "toc_visible": true,
      "include_colab_link": true
    }
  },
  "nbformat": 4,
  "nbformat_minor": 5
}