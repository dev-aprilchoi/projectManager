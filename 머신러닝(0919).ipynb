{
  "nbformat": 4,
  "nbformat_minor": 0,
  "metadata": {
    "colab": {
      "provenance": [],
      "authorship_tag": "ABX9TyP9pu0V0KkTsHi1DVVeIaAC",
      "include_colab_link": true
    },
    "kernelspec": {
      "name": "python3",
      "display_name": "Python 3"
    },
    "language_info": {
      "name": "python"
    }
  },
  "cells": [
    {
      "cell_type": "markdown",
      "metadata": {
        "id": "view-in-github",
        "colab_type": "text"
      },
      "source": [
        "<a href=\"https://colab.research.google.com/github/dev-aprilchoi/projectManager/blob/main/%EB%A8%B8%EC%8B%A0%EB%9F%AC%EB%8B%9D(0919).ipynb\" target=\"_parent\"><img src=\"https://colab.research.google.com/assets/colab-badge.svg\" alt=\"Open In Colab\"/></a>"
      ]
    },
    {
      "cell_type": "markdown",
      "source": [
        "### 텐서플로 설치"
      ],
      "metadata": {
        "id": "MmUTyaxwh_KZ"
      }
    },
    {
      "cell_type": "code",
      "execution_count": 1,
      "metadata": {
        "colab": {
          "base_uri": "https://localhost:8080/"
        },
        "id": "7hMPVnc2h4X6",
        "outputId": "254e4b3b-9315-4664-d565-b8fd63611192"
      },
      "outputs": [
        {
          "output_type": "stream",
          "name": "stdout",
          "text": [
            "Requirement already satisfied: tensorflow in /usr/local/lib/python3.10/dist-packages (2.13.0)\n",
            "Requirement already satisfied: absl-py>=1.0.0 in /usr/local/lib/python3.10/dist-packages (from tensorflow) (1.4.0)\n",
            "Requirement already satisfied: astunparse>=1.6.0 in /usr/local/lib/python3.10/dist-packages (from tensorflow) (1.6.3)\n",
            "Requirement already satisfied: flatbuffers>=23.1.21 in /usr/local/lib/python3.10/dist-packages (from tensorflow) (23.5.26)\n",
            "Requirement already satisfied: gast<=0.4.0,>=0.2.1 in /usr/local/lib/python3.10/dist-packages (from tensorflow) (0.4.0)\n",
            "Requirement already satisfied: google-pasta>=0.1.1 in /usr/local/lib/python3.10/dist-packages (from tensorflow) (0.2.0)\n",
            "Requirement already satisfied: grpcio<2.0,>=1.24.3 in /usr/local/lib/python3.10/dist-packages (from tensorflow) (1.57.0)\n",
            "Requirement already satisfied: h5py>=2.9.0 in /usr/local/lib/python3.10/dist-packages (from tensorflow) (3.9.0)\n",
            "Requirement already satisfied: keras<2.14,>=2.13.1 in /usr/local/lib/python3.10/dist-packages (from tensorflow) (2.13.1)\n",
            "Requirement already satisfied: libclang>=13.0.0 in /usr/local/lib/python3.10/dist-packages (from tensorflow) (16.0.6)\n",
            "Requirement already satisfied: numpy<=1.24.3,>=1.22 in /usr/local/lib/python3.10/dist-packages (from tensorflow) (1.23.5)\n",
            "Requirement already satisfied: opt-einsum>=2.3.2 in /usr/local/lib/python3.10/dist-packages (from tensorflow) (3.3.0)\n",
            "Requirement already satisfied: packaging in /usr/local/lib/python3.10/dist-packages (from tensorflow) (23.1)\n",
            "Requirement already satisfied: protobuf!=4.21.0,!=4.21.1,!=4.21.2,!=4.21.3,!=4.21.4,!=4.21.5,<5.0.0dev,>=3.20.3 in /usr/local/lib/python3.10/dist-packages (from tensorflow) (3.20.3)\n",
            "Requirement already satisfied: setuptools in /usr/local/lib/python3.10/dist-packages (from tensorflow) (67.7.2)\n",
            "Requirement already satisfied: six>=1.12.0 in /usr/local/lib/python3.10/dist-packages (from tensorflow) (1.16.0)\n",
            "Requirement already satisfied: tensorboard<2.14,>=2.13 in /usr/local/lib/python3.10/dist-packages (from tensorflow) (2.13.0)\n",
            "Requirement already satisfied: tensorflow-estimator<2.14,>=2.13.0 in /usr/local/lib/python3.10/dist-packages (from tensorflow) (2.13.0)\n",
            "Requirement already satisfied: termcolor>=1.1.0 in /usr/local/lib/python3.10/dist-packages (from tensorflow) (2.3.0)\n",
            "Requirement already satisfied: typing-extensions<4.6.0,>=3.6.6 in /usr/local/lib/python3.10/dist-packages (from tensorflow) (4.5.0)\n",
            "Requirement already satisfied: wrapt>=1.11.0 in /usr/local/lib/python3.10/dist-packages (from tensorflow) (1.15.0)\n",
            "Requirement already satisfied: tensorflow-io-gcs-filesystem>=0.23.1 in /usr/local/lib/python3.10/dist-packages (from tensorflow) (0.33.0)\n",
            "Requirement already satisfied: wheel<1.0,>=0.23.0 in /usr/local/lib/python3.10/dist-packages (from astunparse>=1.6.0->tensorflow) (0.41.2)\n",
            "Requirement already satisfied: google-auth<3,>=1.6.3 in /usr/local/lib/python3.10/dist-packages (from tensorboard<2.14,>=2.13->tensorflow) (2.17.3)\n",
            "Requirement already satisfied: google-auth-oauthlib<1.1,>=0.5 in /usr/local/lib/python3.10/dist-packages (from tensorboard<2.14,>=2.13->tensorflow) (1.0.0)\n",
            "Requirement already satisfied: markdown>=2.6.8 in /usr/local/lib/python3.10/dist-packages (from tensorboard<2.14,>=2.13->tensorflow) (3.4.4)\n",
            "Requirement already satisfied: requests<3,>=2.21.0 in /usr/local/lib/python3.10/dist-packages (from tensorboard<2.14,>=2.13->tensorflow) (2.31.0)\n",
            "Requirement already satisfied: tensorboard-data-server<0.8.0,>=0.7.0 in /usr/local/lib/python3.10/dist-packages (from tensorboard<2.14,>=2.13->tensorflow) (0.7.1)\n",
            "Requirement already satisfied: werkzeug>=1.0.1 in /usr/local/lib/python3.10/dist-packages (from tensorboard<2.14,>=2.13->tensorflow) (2.3.7)\n",
            "Requirement already satisfied: cachetools<6.0,>=2.0.0 in /usr/local/lib/python3.10/dist-packages (from google-auth<3,>=1.6.3->tensorboard<2.14,>=2.13->tensorflow) (5.3.1)\n",
            "Requirement already satisfied: pyasn1-modules>=0.2.1 in /usr/local/lib/python3.10/dist-packages (from google-auth<3,>=1.6.3->tensorboard<2.14,>=2.13->tensorflow) (0.3.0)\n",
            "Requirement already satisfied: rsa<5,>=3.1.4 in /usr/local/lib/python3.10/dist-packages (from google-auth<3,>=1.6.3->tensorboard<2.14,>=2.13->tensorflow) (4.9)\n",
            "Requirement already satisfied: requests-oauthlib>=0.7.0 in /usr/local/lib/python3.10/dist-packages (from google-auth-oauthlib<1.1,>=0.5->tensorboard<2.14,>=2.13->tensorflow) (1.3.1)\n",
            "Requirement already satisfied: charset-normalizer<4,>=2 in /usr/local/lib/python3.10/dist-packages (from requests<3,>=2.21.0->tensorboard<2.14,>=2.13->tensorflow) (3.2.0)\n",
            "Requirement already satisfied: idna<4,>=2.5 in /usr/local/lib/python3.10/dist-packages (from requests<3,>=2.21.0->tensorboard<2.14,>=2.13->tensorflow) (3.4)\n",
            "Requirement already satisfied: urllib3<3,>=1.21.1 in /usr/local/lib/python3.10/dist-packages (from requests<3,>=2.21.0->tensorboard<2.14,>=2.13->tensorflow) (2.0.4)\n",
            "Requirement already satisfied: certifi>=2017.4.17 in /usr/local/lib/python3.10/dist-packages (from requests<3,>=2.21.0->tensorboard<2.14,>=2.13->tensorflow) (2023.7.22)\n",
            "Requirement already satisfied: MarkupSafe>=2.1.1 in /usr/local/lib/python3.10/dist-packages (from werkzeug>=1.0.1->tensorboard<2.14,>=2.13->tensorflow) (2.1.3)\n",
            "Requirement already satisfied: pyasn1<0.6.0,>=0.4.6 in /usr/local/lib/python3.10/dist-packages (from pyasn1-modules>=0.2.1->google-auth<3,>=1.6.3->tensorboard<2.14,>=2.13->tensorflow) (0.5.0)\n",
            "Requirement already satisfied: oauthlib>=3.0.0 in /usr/local/lib/python3.10/dist-packages (from requests-oauthlib>=0.7.0->google-auth-oauthlib<1.1,>=0.5->tensorboard<2.14,>=2.13->tensorflow) (3.2.2)\n"
          ]
        }
      ],
      "source": [
        "!pip install tensorflow"
      ]
    },
    {
      "cell_type": "code",
      "source": [
        "import tensorflow as tf"
      ],
      "metadata": {
        "id": "ISbxZXbLiTGH"
      },
      "execution_count": 2,
      "outputs": []
    },
    {
      "cell_type": "code",
      "source": [
        "(x_train, y_train), (x_test, y_test) = \\\n",
        "tf.keras.datasets.mnist.load_data()"
      ],
      "metadata": {
        "colab": {
          "base_uri": "https://localhost:8080/"
        },
        "id": "pAnsqYSdi5fl",
        "outputId": "c96a7ddc-d658-41d4-9ae7-56e9fea9d472"
      },
      "execution_count": 3,
      "outputs": [
        {
          "output_type": "stream",
          "name": "stdout",
          "text": [
            "Downloading data from https://storage.googleapis.com/tensorflow/tf-keras-datasets/mnist.npz\n",
            "11490434/11490434 [==============================] - 0s 0us/step\n"
          ]
        }
      ]
    },
    {
      "cell_type": "markdown",
      "source": [
        "### 이미지 보기"
      ],
      "metadata": {
        "id": "zhFWnYWkjxMJ"
      }
    },
    {
      "cell_type": "code",
      "source": [
        "from PIL import Image\n",
        "Image.fromarray(x_train[0])  # 훈련용 이미지 0번을 그림으로 보기"
      ],
      "metadata": {
        "colab": {
          "base_uri": "https://localhost:8080/",
          "height": 45
        },
        "id": "7jCPcVj8jTab",
        "outputId": "b9f1592c-e308-4c8f-e8ce-31aaeb20c2be"
      },
      "execution_count": 4,
      "outputs": [
        {
          "output_type": "execute_result",
          "data": {
            "text/plain": [
              "<PIL.Image.Image image mode=L size=28x28>"
            ],
            "image/png": "[encoded data removed]"
          },
          "metadata": {},
          "execution_count": 4
        }
      ]
    },
    {
      "cell_type": "code",
      "source": [
        "y_train[0]  # 훈련용 이미지 0번의 숫자"
      ],
      "metadata": {
        "colab": {
          "base_uri": "https://localhost:8080/"
        },
        "id": "oDVq1s76jWI0",
        "outputId": "53a28e88-42c4-4c54-a8a6-117a63ca70dc"
      },
      "execution_count": 5,
      "outputs": [
        {
          "output_type": "execute_result",
          "data": {
            "text/plain": [
              "5"
            ]
          },
          "metadata": {},
          "execution_count": 5
        }
      ]
    },
    {
      "cell_type": "code",
      "source": [
        "y_train"
      ],
      "metadata": {
        "colab": {
          "base_uri": "https://localhost:8080/"
        },
        "id": "YB_eP162jpCN",
        "outputId": "3fff380b-327e-49e3-d7aa-765649f74a8b"
      },
      "execution_count": 6,
      "outputs": [
        {
          "output_type": "execute_result",
          "data": {
            "text/plain": [
              "array([5, 0, 4, ..., 5, 6, 8], dtype=uint8)"
            ]
          },
          "metadata": {},
          "execution_count": 6
        }
      ]
    },
    {
      "cell_type": "markdown",
      "source": [
        "### 0과 1만 추리기"
      ],
      "metadata": {
        "id": "8y-4-0Pnj4qu"
      }
    },
    {
      "cell_type": "code",
      "source": [
        "import numpy as np\n",
        "def filter_dataset(x, y, neg_cls, pos_cls):\n",
        "    # x와 y에서 neg_cls와 pos_cls만 추려내는 함수\n",
        "    m = (y == pos_cls) | (y == neg_cls)\n",
        "    x = x[m]\n",
        "    y = y[m]\n",
        "    y = np.where(y == neg_cls, 0, 1)\n",
        "    return x, y\n",
        "\n",
        "x_train2, y_train2 = filter_dataset(x_train, y_train, 0, 1)"
      ],
      "metadata": {
        "id": "rk_v7x0Qj2Tr"
      },
      "execution_count": 7,
      "outputs": []
    },
    {
      "cell_type": "code",
      "source": [
        "y_train2"
      ],
      "metadata": {
        "colab": {
          "base_uri": "https://localhost:8080/"
        },
        "id": "y24OVCnRkWHD",
        "outputId": "50647a80-ab3d-45a2-b784-6bd12183110d"
      },
      "execution_count": 8,
      "outputs": [
        {
          "output_type": "execute_result",
          "data": {
            "text/plain": [
              "array([0, 1, 1, ..., 1, 0, 1])"
            ]
          },
          "metadata": {},
          "execution_count": 8
        }
      ]
    },
    {
      "cell_type": "code",
      "source": [
        "Image.fromarray(x_train2[1])"
      ],
      "metadata": {
        "colab": {
          "base_uri": "https://localhost:8080/",
          "height": 45
        },
        "id": "hBbe2G_EkaPM",
        "outputId": "983ca431-825c-4bf2-a037-811fe488450c"
      },
      "execution_count": 11,
      "outputs": [
        {
          "output_type": "execute_result",
          "data": {
            "text/plain": [
              "<PIL.Image.Image image mode=L size=28x28>"
            ],
            "image/png": "[encoded data removed]"
          },
          "metadata": {},
          "execution_count": 11
        }
      ]
    },
    {
      "cell_type": "markdown",
      "source": [
        "### 텐서플로 모형 정의"
      ],
      "metadata": {
        "id": "99NVFiEylXD1"
      }
    },
    {
      "cell_type": "code",
      "source": [
        "from tensorflow.keras.layers import *\n",
        "model = tf.keras.Sequential([\n",
        "    Flatten(),\n",
        "    Dense(1, activation='sigmoid'),\n",
        "])"
      ],
      "metadata": {
        "id": "zX9nz9hMmvlV"
      },
      "execution_count": 12,
      "outputs": []
    },
    {
      "cell_type": "markdown",
      "source": [
        "### 설정과 훈"
      ],
      "metadata": {
        "id": "nT_BV2dlnM_u"
      }
    },
    {
      "cell_type": "code",
      "source": [
        "model.compile(loss='binary_crossentropy', metrics=['accuracy'])\n",
        "result = model.fit(x_train2, y_train2, validation_split=0.1, epochs=10)"
      ],
      "metadata": {
        "colab": {
          "base_uri": "https://localhost:8080/"
        },
        "id": "w_aqz94BnMRy",
        "outputId": "425c096f-ef6a-4e12-c1c5-af59085e52aa"
      },
      "execution_count": 18,
      "outputs": [
        {
          "output_type": "stream",
          "name": "stdout",
          "text": [
            "Epoch 1/10\n",
            "357/357 [==============================] - 5s 6ms/step - loss: 0.3204 - accuracy: 0.9913 - val_loss: 0.0329 - val_accuracy: 0.9984\n",
            "Epoch 2/10\n",
            "357/357 [==============================] - 1s 3ms/step - loss: 0.1006 - accuracy: 0.9973 - val_loss: 0.0285 - val_accuracy: 0.9992\n",
            "Epoch 3/10\n",
            "357/357 [==============================] - 1s 2ms/step - loss: 0.0706 - accuracy: 0.9981 - val_loss: 0.0225 - val_accuracy: 0.9984\n",
            "Epoch 4/10\n",
            "357/357 [==============================] - 1s 2ms/step - loss: 0.0673 - accuracy: 0.9980 - val_loss: 0.0222 - val_accuracy: 0.9992\n",
            "Epoch 5/10\n",
            "357/357 [==============================] - 1s 2ms/step - loss: 0.0417 - accuracy: 0.9988 - val_loss: 0.0199 - val_accuracy: 0.9976\n",
            "Epoch 6/10\n",
            "357/357 [==============================] - 1s 2ms/step - loss: 0.0394 - accuracy: 0.9984 - val_loss: 0.0500 - val_accuracy: 0.9961\n",
            "Epoch 7/10\n",
            "357/357 [==============================] - 1s 2ms/step - loss: 0.0375 - accuracy: 0.9985 - val_loss: 0.0061 - val_accuracy: 0.9992\n",
            "Epoch 8/10\n",
            "357/357 [==============================] - 1s 2ms/step - loss: 0.0305 - accuracy: 0.9987 - val_loss: 0.0097 - val_accuracy: 0.9992\n",
            "Epoch 9/10\n",
            "357/357 [==============================] - 1s 2ms/step - loss: 0.0202 - accuracy: 0.9993 - val_loss: 0.0041 - val_accuracy: 0.9984\n",
            "Epoch 10/10\n",
            "357/357 [==============================] - 1s 2ms/step - loss: 0.0280 - accuracy: 0.9989 - val_loss: 0.0249 - val_accuracy: 0.9992\n"
          ]
        }
      ]
    },
    {
      "cell_type": "markdown",
      "source": [
        "손실함수 loss: 예측이 부정확한 정도를 평가하는 방법\n",
        "- 이항 분류 문제이므로 binary_crossentropy를 사용\n",
        "- 둘 중에 하나를 어떤 확률로 맞췄냐\n",
        "- accuracy:확률이 큰 쪽으로 예측하여 맞은 개수\n",
        "\n",
        "•배치(batch): 한 번에 모형의 파라미터 조정에 사용하는 데이터 기본 32 개\n",
        "•\n",
        "에포크(epoch): 전체 데이터를 한 번 처음부터 끝까지 훑는 과정 (800=32 × 25)\n",
        "•에포크를 거듭할 수록 손실 (loss) 은 감소 , 정확도 (accuracy)는 향상\n"
      ],
      "metadata": {
        "id": "S_0XjxMzndB5"
      }
    },
    {
      "cell_type": "code",
      "source": [
        "import matplotlib.pyplot as plt\n",
        "plt.plot(result.history['accuracy'], 'b-', label='accuracy')\n",
        "plt.plot(result.history['val_accuracy'], 'r--', label='val_accuracy')\n",
        "plt.legend()"
      ],
      "metadata": {
        "colab": {
          "base_uri": "https://localhost:8080/",
          "height": 448
        },
        "id": "RK06h_rKpF3-",
        "outputId": "b56e3a13-b648-4c9d-8a54-2458fda78190"
      },
      "execution_count": 19,
      "outputs": [
        {
          "output_type": "execute_result",
          "data": {
            "text/plain": [
              "<matplotlib.legend.Legend at 0x7d0ade0be2f0>"
            ]
          },
          "metadata": {},
          "execution_count": 19
        },
        {
          "output_type": "display_data",
          "data": {
            "text/plain": [
              "<Figure size 640x480 with 1 Axes>"
            ],
            "image/png": "[encoded data removed]"
          },
          "metadata": {}
        }
      ]
    },
    {
      "cell_type": "code",
      "source": [
        "plt.plot(result.history['loss'], 'b-', label='loss')\n",
        "plt.plot(result.history['val_loss'], 'r--', label='val_loss')\n",
        "plt.legend()"
      ],
      "metadata": {
        "colab": {
          "base_uri": "https://localhost:8080/",
          "height": 448
        },
        "id": "Kz88kYsQptCG",
        "outputId": "9f1daf4f-bb90-4efe-df7a-0ce781ddfab0"
      },
      "execution_count": 20,
      "outputs": [
        {
          "output_type": "execute_result",
          "data": {
            "text/plain": [
              "<matplotlib.legend.Legend at 0x7d0ad7785f00>"
            ]
          },
          "metadata": {},
          "execution_count": 20
        },
        {
          "output_type": "display_data",
          "data": {
            "text/plain": [
              "<Figure size 640x480 with 1 Axes>"
            ],
            "image/png": "[encoded data removed]"
          },
          "metadata": {}
        }
      ]
    },
    {
      "cell_type": "markdown",
      "source": [
        "Early Stopping: 100번을 하기로 했어도 성능이 떨어지기 시작하면 일찍 멈춤\n",
        "\n",
        "Checkpoint: 중간중간 저장을 해놨다가 제일 성능이 좋았던 시점을 다시 불러온다\n",
        "\n",
        "https://playground.tensorflow.org/\n",
        "\n",
        "Q. 복잡할수록 정확도가 높아진다고 생각하는게 맞을까요?\n",
        "복잡도: 얼마나 복잡하냐(모델의 특성)\n",
        "\n",
        "정확도: 얼마나 잘 맞췄냐(결과)\n",
        "A. 문제에 따라 다르다\n",
        "- 단순해야 할 때는 단순하게\n",
        "- 복잡해야 할 때는 복잡하게\n",
        "\n",
        "Q. 혹시 자주 쓰는 트레이닝 모델이 있을까요?\n",
        "모델을 보통은 직접 만들지 않음\n",
        "있는 모델을 가져다 씀\n",
        "- https://huggingface.co/ 참고\n",
        "- ResNet\n"
      ],
      "metadata": {
        "id": "oSRoSfVOqgKU"
      }
    }
  ]
}