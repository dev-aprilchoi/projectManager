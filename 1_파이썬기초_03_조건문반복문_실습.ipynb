{
  "cells": [
    {
      "cell_type": "markdown",
      "metadata": {
        "id": "view-in-github",
        "colab_type": "text"
      },
      "source": [
        "<a href=\"https://colab.research.google.com/github/dev-aprilchoi/projectmanager/blob/main/1_%ED%8C%8C%EC%9D%B4%EC%8D%AC%EA%B8%B0%EC%B4%88_03_%EC%A1%B0%EA%B1%B4%EB%AC%B8%EB%B0%98%EB%B3%B5%EB%AC%B8_%EC%8B%A4%EC%8A%B5.ipynb\" target=\"_parent\"><img src=\"https://colab.research.google.com/assets/colab-badge.svg\" alt=\"Open In Colab\"/></a>"
      ]
    },
    {
      "cell_type": "markdown",
      "id": "25f81d8c",
      "metadata": {
        "id": "25f81d8c"
      },
      "source": [
        "# 파이썬 기초 다지기"
      ]
    },
    {
      "cell_type": "markdown",
      "id": "3f3da3bd",
      "metadata": {
        "id": "3f3da3bd"
      },
      "source": [
        "## 3- 조건문과 반복문\n",
        "데이터와 처리의 흐름을 제어하는 조건문과 반목문"
      ]
    },
    {
      "cell_type": "markdown",
      "id": "0c52a67e",
      "metadata": {
        "id": "0c52a67e"
      },
      "source": [
        "----------------------------------"
      ]
    },
    {
      "cell_type": "markdown",
      "id": "aee8f2e8",
      "metadata": {
        "id": "aee8f2e8"
      },
      "source": [
        "## 3-1.if 조건문"
      ]
    },
    {
      "cell_type": "markdown",
      "id": "e89f3546",
      "metadata": {
        "id": "e89f3546"
      },
      "source": [
        "### 조건문: if"
      ]
    },
    {
      "cell_type": "code",
      "execution_count": null,
      "id": "4f161d86",
      "metadata": {
        "colab": {
          "base_uri": "https://localhost:8080/"
        },
        "id": "4f161d86",
        "outputId": "d31c3158-799f-4bf5-8fe3-03bb7fc8182e"
      },
      "outputs": [
        {
          "output_type": "stream",
          "name": "stdout",
          "text": [
            "숫자를 입력하세요:200\n",
            "200은/는 100보다 크군요!\n"
          ]
        }
      ],
      "source": [
        "a = int(input('숫자를 입력하세요:'))\n",
        "if a > 100:\n",
        "    print(f'{a}은/는 100보다 크군요!')\n"
      ]
    },
    {
      "cell_type": "markdown",
      "id": "cb89ea65",
      "metadata": {
        "id": "cb89ea65"
      },
      "source": [
        "### 조건문: if ~ else"
      ]
    },
    {
      "cell_type": "code",
      "execution_count": null,
      "id": "6eca2413",
      "metadata": {
        "colab": {
          "base_uri": "https://localhost:8080/"
        },
        "id": "6eca2413",
        "outputId": "ec71a171-802e-403b-8873-271eb409782b"
      },
      "outputs": [
        {
          "output_type": "stream",
          "name": "stdout",
          "text": [
            "숫자를 입력하세요:100\n",
            "100는 100보다 크지 않군요!\n"
          ]
        }
      ],
      "source": [
        "a = int(input('숫자를 입력하세요:'))\n",
        "if a > 100:\n",
        "    print(f'{a}은/는 100보다 크군요!')\n",
        "else:\n",
        "    print(f'{a}은/는 100보다 크지 않거나 같군요!')\n"
      ]
    },
    {
      "cell_type": "markdown",
      "id": "13b404bd",
      "metadata": {
        "id": "13b404bd"
      },
      "source": [
        "### 조건문 : 중첩if"
      ]
    },
    {
      "cell_type": "code",
      "execution_count": null,
      "id": "9575f530",
      "metadata": {
        "colab": {
          "base_uri": "https://localhost:8080/"
        },
        "id": "9575f530",
        "outputId": "609371ee-109a-4240-defa-da737e5e965b"
      },
      "outputs": [
        {
          "output_type": "stream",
          "name": "stdout",
          "text": [
            "숫자를 입력하세요:200\n",
            "200은/는 100보다 크군요!\n",
            "200는 200보다 같거나 크지 않군요!\n"
          ]
        }
      ],
      "source": [
        "a = int(input('숫자를 입력하세요:'))\n",
        "if a > 100:\n",
        "    print(f'{a}은/는 100보다 크군요!')\n",
        "    if a > 200:\n",
        "        print(f'{a}은/는 200보다 크군요!')\n",
        "    else:\n",
        "       print(f'{a}은/는 200보다 같거나 크지 않군요!')\n",
        "else:\n",
        "    if a == 100:\n",
        "        print(f'{a}은/는 100과 같군요!')\n",
        "    else:\n",
        "        print(f'{a}은/는 100보다 작군요!')"
      ]
    },
    {
      "cell_type": "markdown",
      "source": [
        "### 조건문 : if ~ elif ~ (else)"
      ],
      "metadata": {
        "id": "uf3SM9Pzi7YU"
      },
      "id": "uf3SM9Pzi7YU"
    },
    {
      "cell_type": "code",
      "source": [
        "a = int(input('숫자를 입력하세요:'))\n",
        "if a > 200:\n",
        "    print(f'{a}은/는 200보다 크군요!')\n",
        "elif a > 100:\n",
        "    print(f'{a}은/는 100보다 크고 200보다 작거나 같군요!')\n",
        "elif a == 100:\n",
        "    print(f'{a}은/는 100과 같군요!')\n",
        "else:\n",
        "    print(f'{a}은/는 100보다 작군요!')"
      ],
      "metadata": {
        "colab": {
          "base_uri": "https://localhost:8080/"
        },
        "id": "nhKGR8Yli6zM",
        "outputId": "3df4f6bc-008d-4c89-b577-d30c9eaae637"
      },
      "id": "nhKGR8Yli6zM",
      "execution_count": null,
      "outputs": [
        {
          "output_type": "stream",
          "name": "stdout",
          "text": [
            "숫자를 입력하세요:90\n",
            "90은/는 100보다 작군요!\n"
          ]
        }
      ]
    },
    {
      "cell_type": "markdown",
      "id": "349dec8b",
      "metadata": {
        "id": "349dec8b"
      },
      "source": [
        "### [실습문제] 짝수/홀수 판별하기"
      ]
    },
    {
      "cell_type": "code",
      "execution_count": null,
      "id": "de48c13d",
      "metadata": {
        "colab": {
          "base_uri": "https://localhost:8080/"
        },
        "id": "de48c13d",
        "outputId": "3e3ed838-7ddc-4fbc-89c8-82f654e36fd5"
      },
      "outputs": [
        {
          "output_type": "stream",
          "name": "stdout",
          "text": [
            "숫자를 입력해 주세요: 459\n",
            "홀수 입니다.\n"
          ]
        }
      ],
      "source": [
        "x = int(input('숫자를 입력해 주세요: '))\n",
        "if x % 2 == 0:  # 짝수/홀수 조건 판별하기\n",
        "    print('짝수 입니다.')\n",
        "else:\n",
        "    print('홀수 입니다.')\n",
        "\n",
        "\n"
      ]
    },
    {
      "cell_type": "code",
      "source": [
        "# 멤버쉽 연산자 사용해서 조건문 판별하기\n",
        "a = [1,2,3,4,5]\n",
        "x = 7\n",
        "if x in a:\n",
        "    print(f'{x}는 {a} 리스트에 포함되어 있습니다.')\n",
        "else:\n",
        "    print(f'{x}는 {a} 리스트에 포함되어 있지 않습니다.')\n"
      ],
      "metadata": {
        "id": "o96yUyjtlwBh"
      },
      "id": "o96yUyjtlwBh",
      "execution_count": null,
      "outputs": []
    },
    {
      "cell_type": "markdown",
      "id": "30919e6b",
      "metadata": {
        "id": "30919e6b"
      },
      "source": [
        "### [실습문제]\n",
        "피타고라스 정리에 의해 직각삼각형의 세 변의 길이에 대한 관계는 아래와 같습니다. 이 정리를 이용하여 세 변의 길이를 입력 받은 삼각형이 직각삼각형인지 아닌지 판별하는 프로그램을 만들어 보세요.\n"
      ]
    },
    {
      "cell_type": "markdown",
      "source": [
        "# [참고] 기술통계 수학 함수 ----------------------"
      ],
      "metadata": {
        "id": "UE22ruCXr58-"
      },
      "id": "UE22ruCXr58-"
    },
    {
      "cell_type": "code",
      "source": [
        "a = [1,2,3,4,5]\n",
        "print(f'{a}의 개수(길이): {len(a)}' )\n",
        "print(f'{a}의 합계  : {sum(a)}' )\n",
        "print(f'{a}의 최소값: {min(a)}' )\n",
        "print(f'{a}의 최대값: {max(a)}' )\n",
        "print(f'{a}의 평균  : {sum(a)/len(a)}' )"
      ],
      "metadata": {
        "id": "dMSs4sZcrS6n"
      },
      "id": "dMSs4sZcrS6n",
      "execution_count": null,
      "outputs": []
    },
    {
      "cell_type": "code",
      "execution_count": null,
      "id": "f6e6ca29",
      "metadata": {
        "scrolled": false,
        "colab": {
          "base_uri": "https://localhost:8080/"
        },
        "id": "f6e6ca29",
        "outputId": "b3b0d95e-9831-41d5-e2a6-f5107599959f"
      },
      "outputs": [
        {
          "output_type": "stream",
          "name": "stdout",
          "text": [
            "변 a의 길이: 3\n",
            "변 b의 길이: 5\n",
            "변 c의 길이: 6\n",
            "------------------------------\n",
            "세변 3, 5, 6는 직각삼각형이 아닙니다.\n"
          ]
        }
      ],
      "source": [
        "# 1. 세 변의 길이 입력 받기\n",
        "a = int(input('변 a의 길이: '))\n",
        "b = int(input('변 b의 길이: '))\n",
        "c = int(input('변 c의 길이: ')) # 빗변이라 가장한다.\n",
        "\n",
        "print('-' * 30)  # 분리 선\n",
        "\n",
        "# 2. 직각삼각형 판별하기\n",
        "if (a**2 + b**2) == c**2:\n",
        "    print(f'세변 {a}, {b}, {c}는 직각삼각형 입니다.')\n",
        "else:\n",
        "    print(f'세변 {a}, {b}, {c}는 직각삼각형이 아닙니다.')"
      ]
    },
    {
      "cell_type": "markdown",
      "source": [
        "### [실습문제] 성적 등급 판별하는 코드 작성"
      ],
      "metadata": {
        "id": "mrI0mkBOts8K"
      },
      "id": "mrI0mkBOts8K"
    },
    {
      "cell_type": "code",
      "source": [
        "score = int(input('성적을 입력해 주세요:'))\n",
        "grade = ''\n",
        "\n",
        "if score >= 90: grade = 'A'\n",
        "elif score >= 80: grade = 'B'\n",
        "elif score >=70: grade = 'C'\n",
        "else: grade = 'D'\n",
        "\n",
        "print(f'성적 {score}은/는 {grade} 등급 입니다.')"
      ],
      "metadata": {
        "colab": {
          "base_uri": "https://localhost:8080/"
        },
        "id": "R4aol76XtyX0",
        "outputId": "aff75eee-51f8-4614-e673-dfd84b5f2a14"
      },
      "id": "R4aol76XtyX0",
      "execution_count": null,
      "outputs": [
        {
          "output_type": "stream",
          "name": "stdout",
          "text": [
            "성적을 입력해 주세요:89\n",
            "성적 89은/는 B 등급 입니다.\n"
          ]
        }
      ]
    },
    {
      "cell_type": "markdown",
      "source": [
        "### [실습문제]  온도에 따른 행동 조건문 만들기"
      ],
      "metadata": {
        "id": "oijS7n9exfB4"
      },
      "id": "oijS7n9exfB4"
    },
    {
      "cell_type": "code",
      "source": [
        "temp = int(input('온도를 입력 해주세요:'))\n",
        "speaker = \"쾌적한 온도입니다~\"\n",
        "if temp >= 30:\n",
        "    speaker = \"에어컨을 켜세요!\"\n",
        "elif temp < 15:\n",
        "    speaker = \"내복을 입으세요!\"\n",
        "    if temp <= 10:              # elif 가 아니라 elif문에 속해있는 if문 사용\n",
        "        speaker = \"난방기를 켜세요!\"\n",
        "\n",
        "print(f'온도 {temp}도 일때는 {speaker}')"
      ],
      "metadata": {
        "colab": {
          "base_uri": "https://localhost:8080/"
        },
        "id": "givROWxvxm4T",
        "outputId": "5b61782b-4368-45ad-b7d1-506887540dcc"
      },
      "id": "givROWxvxm4T",
      "execution_count": null,
      "outputs": [
        {
          "output_type": "stream",
          "name": "stdout",
          "text": [
            "온도를 입력 해주세요:19\n",
            "온도 19도 일때는 쾌적한 온도입니다~\n"
          ]
        }
      ]
    },
    {
      "cell_type": "markdown",
      "source": [
        "### 코랩(윈도우)에서 gTTS 기능 사용하기\n",
        "1. 라이브러리 설치하기"
      ],
      "metadata": {
        "id": "JV5E9bs7-DXJ"
      },
      "id": "JV5E9bs7-DXJ"
    },
    {
      "cell_type": "code",
      "source": [
        "!pip install gtts"
      ],
      "metadata": {
        "colab": {
          "base_uri": "https://localhost:8080/"
        },
        "id": "vdag-xRj-G8s",
        "outputId": "562fb33c-5fda-4c54-d2ef-ac73d81abb6c"
      },
      "id": "vdag-xRj-G8s",
      "execution_count": null,
      "outputs": [
        {
          "output_type": "stream",
          "name": "stdout",
          "text": [
            "Collecting gtts\n",
            "  Downloading gTTS-2.3.2-py3-none-any.whl (28 kB)\n",
            "Requirement already satisfied: requests<3,>=2.27 in /usr/local/lib/python3.10/dist-packages (from gtts) (2.31.0)\n",
            "Requirement already satisfied: click<8.2,>=7.1 in /usr/local/lib/python3.10/dist-packages (from gtts) (8.1.6)\n",
            "Requirement already satisfied: charset-normalizer<4,>=2 in /usr/local/lib/python3.10/dist-packages (from requests<3,>=2.27->gtts) (3.2.0)\n",
            "Requirement already satisfied: idna<4,>=2.5 in /usr/local/lib/python3.10/dist-packages (from requests<3,>=2.27->gtts) (3.4)\n",
            "Requirement already satisfied: urllib3<3,>=1.21.1 in /usr/local/lib/python3.10/dist-packages (from requests<3,>=2.27->gtts) (2.0.4)\n",
            "Requirement already satisfied: certifi>=2017.4.17 in /usr/local/lib/python3.10/dist-packages (from requests<3,>=2.27->gtts) (2023.7.22)\n",
            "Installing collected packages: gtts\n",
            "Successfully installed gtts-2.3.2\n"
          ]
        }
      ]
    },
    {
      "cell_type": "code",
      "source": [
        "from gtts import gTTS\n",
        "from IPython.display import Audio\n",
        "\n",
        "# kor_wav = gTTS('안녕 여러분!', lang = 'ko')\n",
        "# kor_wav.save('kor.wav')\n",
        "# display(Audio('kor.wav', autoplay=True))\n",
        "\n",
        "eng_wav = gTTS('Hello, everyone!', lang = 'en')\n",
        "eng_wav.save('eng.wav')\n",
        "\n",
        "display(Audio('eng.wav', autoplay=True))"
      ],
      "metadata": {
        "colab": {
          "base_uri": "https://localhost:8080/",
          "height": 74
        },
        "id": "wrMjqEcq-Q_c",
        "outputId": "7d9bfc10-7009-492d-dc34-f25fb7cb1ef5"
      },
      "id": "wrMjqEcq-Q_c",
      "execution_count": null,
      "outputs": [
        {
          "output_type": "display_data",
          "data": {
            "text/plain": [
              "<IPython.lib.display.Audio object>"
            ],
            "text/html": [
              "\n",
              "                <audio  controls=\"controls\" autoplay=\"autoplay\">\n",
              "                    <source src=\"data:audio/x-wav;base64,//NExAAAAANIAUAAAP8tesc7xGHf7jyCJPL/yuXw24/IHxaNl8wxocJbDT5jOeeaxYRR7/fhsdLnu3+e/qYc6u///5Iwdnsa////+w6UaxzP//T1qgjEJ4yVo8h2vJAi//NExFMRylZUAZk4AF1wjG+SdvOtucHyx1eJAABFj69+TkShXLZ/X9luNhvS6cXO6lcG4j2edWL152vJZbeuYVK5PJYHx/c+K0eU7V+LHDhzm1+beid9fG2kq/936TTV//NExF4fMkZsAc9gAPOz2UcmlMt2U21X528FO3GHPDD0E0bqVGPz8o5pQEIVM9eXOvB/StshJ0yhZFHWF4LRzHZweT2FujqNhWgL1tV8Z42sEScH8e05JesQzNg6Q1i4//NExDQdmmaIAGMQuNSotY1EoTBAQgXC6kTSl0bcFj7scMHWZN0gw8U5FJmn5PHWYRWPZGol3dzeqvGVMadJdU9WpxkjwqK38uqiicvuoRW9NSCOByItp8pb0uIETCc3//NExBAVoTKgAHsScBIHc4LDIEyMFBdLQSLV9IKCjXmnqgPCYrIydRqSrKKX86h2WoZF2ZNZZEnTUHcizWq6JQCs9YMFgiJy7UuMEYyBVuSrdPj1qY81sG3t/O7yVlCA//NExAwVIS6oAM4ecKh3hKWMgObB3+6/L5IXVJXKYCUth7mWnxCH0aVSgThDXKVZ01TWx9x//ttje3xTWfnUf6t7s7IIOnKhbMxjZoe02YtROPQ6zoXfO4U6hI9eczyf//NExAoU6UqsAMZElVM00z6SrTJ2nWI0h1caZDkCq2T1sokmkseR4c0vGvFPoFHSgGL91lMwdm+UduV+hX6OyXQcjEQOHa3Uo+4jthCE5Oh4Qlc7f/vSsf+6jAhMOf58//NExAkTib6sAM5ElHnPPMF58cGMmRqaqcb3UjTwoTnUz7TRJS6Qb96UvXT1ljNRqXWP/LIzalM2pSvys/RTfKspRIL5ie3yuRDAwhx7HPtEVNWXfq7MCEua9NAc5FWz//NExA0VScqUANZKlIUGms9JvuNOTYgNBuRFnId/JQEKRWw/Tx5ZZlGkxEvyuwzm/P8/uPOf/zP5jNyl+zfXps6GAwGXzHTUz0iIiHRQyCyiqWnZJaqcwysy4GE5yggi//NExAoTUa6MAN5OlEw3XZ6GAp4kWYCBT89GHhM+JxKex8qX8POU2MFYSlCCx3W9S/vP/Vfv/8p836//nfvRkEwTndC+21NSkUjcHHVa8iQq5f3qJjAQZIMu5P2o6Mhx//NExA8UIbKcANzKlIHXDxxGzQfhzADdi9IkdTOh7ADaB4MCwYkeASUOnPp3LnzM/8/yfVv/t8QnsgU3rrz9osoOJB+XRrdKaHf//8/h6rtr+2VpB9bfXrN90T1nIlWn//NExBEWEeakAM0OmBdMhbAHywsXIMapIhEACICUFHzYxC0gWUYpLPCKCwL8tp9Z9/S+zfPfy/uPrZ0OIfLfIWZXEJ7W3ReXrs2Xon///bprJNPlqkk9IaoDoKvdxsJi//NExAsRCLqwAJZeTE4kfU7GG9CzIIKeXLWT2CfcaU3gYSapSHp8TFb+/4U+Esk+VZkKwHaI3/ZIicyJTuG2fT////oxVVVB+oBxlLQK4jEKXzRAZc3GUA3hsuOioshE//NExBkR0dasAKUKmHltzypWC70EkkUBQg2m80+db1FvibeQV+FFVtW//+gccvUd8RrU/dhj//9XfsoV3/51GFm2Ejw1H1UDJJhZdjjbdpNIPBS7HPJaBdGD69667aac//NExCQSGTqsAMaUcEjVLiuDeA0Tb1JfkvQwh8w9tTzyL1IB66t33xcKsYIXZ6g98ko89RiA/gXpdSvp6Grw1Z3tWEy0Djq5LqzDB+BqBSldZSE4LNIKKGr2dOOrapAq//NExC4QmKq0AI4eTCI0JiRgmHTc9c161mA2dR2+qMX9Fcct3F8AMl1Y9IBGOcITUF1R9CeBlzMJMQFv34TkUzDBVJgCwAXwrkOJeCnFGKTphhxWaDFiceCwqRVva9mt//NExD4RoKqoAM5eTCNEIwt29DnB5X2xrQCUDjwsWjJVDODUMBcVhAIGF3GhxW64JfqmdpGwSALXKDRIQgmiSLKF2rUOCYFFXOQxjHovr/t907pFxFgktOv0Cn9SlkVt//NExEoRqTKgAM5KcCMhuhrJZ5kYFugJMuJGQz1o1T8OMwU+iTqg0iogYMWfBDGAwBZ8BSXe1l2qtntBVtdBwOmv2NdpqHNf/rXd/VVO2W0IxSAz9tpkRnzPnnYrECIN//NExFYQmJqUANawTOwqOJhVK06rHpeS/Hmu8ys1mVkUGpGWOdLcY/IccuWv5vH/1/ebb2q3/o9Snb/+81VEmErbPlkOIF/RAZmjTQpjz+GAFYAAUx2UCHISqWjA0fXV//NExGYScYaAANYElNgqElBbG4wYIKUxTuEmH8a2sVcMSxsUvFo56R7YxAKK+m5n7wCHX///////6UpFFLIWGDV5A38wL2o9LAvKW7AJol4/U6s3bFSSIC8CqCPBGlOb//NExG8SaKpwAN5eTALEvFyb1TYOgqFQmMPKeIlnSoCBoSuXxEe7KctEtn+mMLCwsMAlk7ComCsOXiVJ0H2qFFHjKGAIhGwTJWzhm0rIgFYPBwYoCM1UKXuUY3C4y8a2//NExHgRMIJgANveSM1hrUL+9bfnl/FEKer89/RVRAJr7DHahA6cRhQzChQEBRQaDjoEU4bQCqxKE6yJ4XMFIifFBdTgK0JoMjRe59TKWPc8k6yE0OoTWFEvOBZI7QC5//NExIYQyHoEAMPSSES9t3xa9yEAQGQDBUsdUnJlDAwioDAIJCR6ioVFWJCQtrFaQEEpE0/fWZT7AqZATSzbMsEl0P06xI9FDxUynpKsixpRI0x23NIHBoPyY4QV/rMn//NExJUSMHn4ADDGSPPmfQnf//68QkLd4AI2T3DwOBP/EjL5JpxA8RbDNp2GeH/JHSEDD//PU8l+MtO8z/ltf/EB8CeHh3//+Ml2kaTd10zhackND3PkGpS/X+7FFPUX//NExJ8QaDX8AEpGBPRG+w4ja//ijbie1uf/9SgCDLZKwcWV///R7MgYmxATDwlO/1/+oKIlyzBgJDQ3NVe////+u2yT0QIZJELu4ECQVGRJ/////+ebRkFp7O5t9ETw//NExLASqNH8AUcYAVaaSYbZjH1//////+gXOvtdaJifyr/eTljSNJEnJzSzSqlhJ4FIjIC/+l6AQyqAPbYzDiKWD0izDYHpiPyJgGUDYcgrdM0PkAFxE+UiLfLRcJgZ//NExLghWyH0AZhIAUHYXxjhbhBUMhsm6aaYYjFLlYSgQ0iwn8UgRMaAlKbq+MkXGMyuX1DBHyTjmaBt29lplBEnFprWWysWy0YoqOo//nrMgt+8vHDVyxJv//Ff6P3d//NExIUgwlKcAZiQAHRCxyKdrb6gnqK9O4IoE5OWJSNaEDzlIWBEdtGWO/eDarFHakkdgZNTKpDGSyiQ0y0ZUuStTaeRw6SdpBdM6pc29hcWljUajZY7pQMCi3MsOE9L//NExFUb6aakAdh4AMeNatb218UtX4kzjF4H9J4Z5tKJsE0OYURbXbP9wQIib8iljQQpOHLU+UZBqwBFseh1hoqAEwDXKtaUDweft2GZI50//baBc/GqrlddNN2C5oQD//NExDggQfagAM6YmIVGBkEWnbe1L25MPjinwlEQ7MzskkBDJ7BOIbRbZsc5Tca9iZareZe2H5dxifW4sWQKnJpb52ZrMr6ufLlnlBUiLtWLf///6hXH+D1DGZY8U7QB//NExAoUCSa8AH4ecJFrqYx4ZJK4xbhotUo2yfuL6u5c3nVnZe/jvmFeUCsgH8dacWGocxO2B5My0j3hsMWFNuNa0u4zk/geDGJA6deh1n6X//Sqv4cyekUpjEsymm3P//NExAwVWRasAM5ecDGXB2ovIy4gaHCORxxi8ySd/k00lXLn6yuq0uma0TxjBMM65OUGCVyUY1bFyw4r+3Oagw+fMyqePVbMzAsHEGqv9QYUHvh7rG01gTHK9GzggFXY//NExAkSqQaUAMPYcK00SIFnpYFlm3cogAEXg4raXSqTrrw1IxsMRrWCUVoqsuBMBq1mWaWnt1mtpsy61Hd05UsWsaj/5YzkP2//////Uheq67HBChnVPW4kawYaruQD//NExBERYDaUAGYMBGkqHhZznFBOBAwShccCAgawebXe0g0ExUe+usPpSwH0CkLpIcuR1HGSF67fsD4wzYUzjeGqTl/9haAEB7au0iEafFECJXoQKVClu7I7uQs6ZLUv//NExB4P8PagAHoGcJ5ErWxDCiU0MF45M8fLoAawgfqrLC9Fozfzv///0mn/vkK3h3c0FpgPK6sqyf0z9wmemx7Y9X8tvclaq7NpTO1fVUYK2191seA/S4wyCbz/tsAg//NExDEQuMacAM5YcOveG6DiyX//lfLM1dP/////17G93FUzLgluwxNl5DEHheILKpdyt/lAYthGH0dm529XgNozLneiD8HedgxlWf4QMEGWE7DQNBxLyLkZB0MhIPxi//NExEESAMqkANYecD///5BWq+ruX8EJMSIyx9lpmasHCcixUnDmAOy7KwChdU2oVCCIsbCUle1JERxvCFC5HGehrEJUDgGoJuuzxL6V54RKw9wIlFU///9iXdUDKt5b//NExEwSSO6oANMecICMIelxiBjwiENwIUbgiBYo2LrcXGW57rECR9akSebXdaXe2wuMhKfWA2AcNwkH8kiSTy4O5dVkhnevL593//J2/kGI5lVl41tFvQ8O6FXUjhAF//NExFURgQqsAMvYcCw9FZFyCpLPk6a5slWfZSuz53Pv9e6y2aHJ0yOJNA2TT8dzh5QRR5uiSVe1o1rv9sIED1tukQJXvdzLAI19qICDov04DlDARwgMUtUktw3G4rjc//NExGIRuRasAMzYcLFr94Wvr5XfnaMLIdbjWLnCWVCd6EQwAQCxl0m7onKqrrM8KkVf/AhowVd+dSqR4v8YkRCztLZKaSAF3GkBcYLFmA1Y1aT7sYKLwP8sWxjD7dlI//NExG4SGQqgAM6YcE+6Dc4REZ0LBpsiBIVEzVkLMoJs+UtyMtqKHKRNcI//7lUHAAIAIgCxg+vGCwwXvAgGOEEcxMCQ4AGIS2dbZAf+RCCEkpSmFolHDYpcXDPZdPlY//NExHgRqQKIAN5ScKxUui9saY3L7UdAWuHEdKLPjc95Lbk+iDBWEIHlVdeUZD6tfXRBlR7NTP/////9ChAG106TkZMekRIGIBY+tvKyks0YVhnFHgoPgoyjIMvqGLpO//NExIQYGRJoAOZQcOnQELbM4htBiZkpTuUsjUvf63S4BAjCQ6SRT8VuRj8kfB4+ih32eFIqCAGo3iuoYCYIIuzf/////1iu4zWIOkh3MKuTNQ19gSEgawJj5MtUp8TW//NExHYX2QJoAN6QcApuDAQRhRrwI0DYYYqOIECQEbAIY0RQDHIcWBZZWlD33r9aV294yu3hhzmsP/7EU8Ox6dLjHrO2xFaZDZe+LvWiH3ghpNM8CBg4i1X/////9VBn//NExGkZ+X54AN6MlNhGwALysw0SexCekHmUkISHYUDkUuBYclYiVOEIFmIypYumxQyr41g0HByAYdmGNK3AYYnBR7huFZ14nPfqY/6ko/kXW0F/IDxve9x/kLWKB7R5//NExFQakYqEAOaQlWLcktuVL0EohyCgIDlc9wd+vU61gJZqv4xIwHBbKWU4KnYq/jIz9Tb2VqzjiSn5UIywVs38qlQKpfKfAkAUODqlbTPTXe89RlFPuhprfal7D7ln//NExDwX4YqYAM5QlOBzU57cH1vd7/x8XNkAsOgUW4g2kprQUHoIAmO73OP2x8CxWrGccFanYtygOpzlRVDMoibuJ3jaZTEQsVUWErFTwm7KCsOcarH4baOtBCJG4Kc2//NExC8VsYqgAM4MlOcu0/P+l/QJ/Ct55LXvP3/94918IPhgAT9rR91t3eZiTGQFR3b+hCbLUyWXajnaHr02nrE22ImI2trehgstFqdsaI2cQTkZtysne8uLgAdQWI9w//NExCsTiTqoAMYacBsBxpHUnmZeWbm5rWfZTnqZm1S9NWvWkyDH3MGC0SlHg4311ccegqM/YQ5o/V4JC9UaazM0tJXQEAnd/SaEDYL4g/Uwoo23KkDGxmDfBahzGQXk//NExC8TgTKkAMYacIZuMccyjg9WWZpZgeWnehqbvW6Vy8DZK9bkHSpgz+qz2oa6SHIkeix3oK61K8z0fTSEA9GNhOEJxIJFHzgldO3Oc2U0y4UwuTM2H4Q91GNeuFPQ//NExDQTIUqcAMPGlB9UY4/wvnankORIuCDyKItesYA6Z7VR3IWCMI+Y2MYhwkPKOKdkZtxWo3BIkWtNrTb7jdmPZacK7jXoO6oL6MlklE8nG6YGULYkTNmoJJS80xNa//NExDoSMT6UAM4acJv+tFqTsgfcRMPb66ZroUVZuDDEZZhq7wYpkV4u4wofGwFUa7y8KZl+Iqa36rtFAGZsKotQjtSWz9nKm9lCCKUUZ6QGHg4UMGwXWiKqQAQYKhQd//NExEQSGMJ8AN7STP9f2H0qdlm0Mjmat5wzCGEHelYkECMLEgJHm6CI3AT1qnqM6XDFj4i5rLv8g0AIMwMTs5C9NdvH5Wdy5l///97PlkCOna//6Pl01RUIgpJ8xPGS//NExE4RSUJ0ANvMcEk+ACpmzBbGBQMAXZJ3ZBxabth+9gRK1PaLme+qeNuHN2EUTC4SCytMxV367F0aQPTjvqYjge5BoDBh//xV361lc2x00zpm23EDCJPEvIA400FU//NExFsR8TZwANvQcNplZMHTAPEkA0BseQfeNeb6SV0YR+bobbMQUq5nnB0K44zv66EeIC5Ct7///QQd3plqP////9AEgMdQlGM6QcVMcAgKZgEylmwUBIBAhGYmo9s4//NExGYSeapsANoKlEwG4Nqxzbq/625QmDLYoXXtP1sfVbJ77WfiSWPahh7/+RGtooosszUtGcLOcoSAgSmSklctdLnNDGAuKBdhGaYFUkUVlYYrDaahpi6KFgFhGxpx//NExG8QIPZsANpScDXEryzNNMSO/6vi+yaKAURnj3/Fjz+otjCdAC0ECa6kYfewDQkgKGocyYbUfCTjQWNp4SAZIRho8sNGgkJRY/ZKstRCTS08DMqeadls1KqfI/iz//NExIER6S5YANJQcOrsxd3dsQvpvyvLaMNiQVlGQsg6kyAeDC0KA4HhViBwLDTYZQHlg4tgsGhMG0Ay00/+LRC9DzLiMWssHE+LI//xYyKm2cE2KFjH11ISUWYgY/B1//NExIwRQGYIAMMMKAmpAi3lYQknx3ow4jlXle0BJx+b/GpGmLCQYWgOBgNAcRMWiVlPCRsLImwkaVqNXss+f////2UmVCFBUHVnJdqTBUHAgqDiQzkzfyky1B1jkarK//NExJoP6EXQAEmGJIas6K1Q/JmqCgoJxIEGcmvtaQoKCFiQwN0VVUwNESlRFRvGCfiveNqKO0zguFZIP3LwJUJCTrHxmVrZ+yhgYMI5l3/FW//CooLamJAQLC4jrFRY//NExK0emtXYAHmGudfULCuDIoJDXxYXI4qLdtICCQripBVMQU1FMy4xMDBVVVVVVVVVVVVVVVVVVVVVVVVVVVVVVVVVVVVVVVVVVVVVVVVVVVVVVVVVVVVVTEFNRTMu//NExIUR0J10AHsGTDEwMFVVVVVVVVVVVVVVVVVVVVVVVVVVVVVVVVVVVVVVVVVVVVVVVVVVVVVVVVVVVVVVVVVVVVVVVVVVVVVVVVVVVVVVVVVVVVVVVVVVTEFNRTMu//NExJAAAANIAAAAADEwMFVVVVVVVVVVVVVVVVVVVVVVVVVVVVVVVVVVVVVVVVVVVVVVVVVVVVVVVVVVVVVVVVVVVVVVVVVVVVVVVVVVVVVVVVVVVVVVVVVVTEFNRTMu//NExKwAAANIAAAAADEwMFVVVVVVVVVVVVVVVVVVVVVVVVVVVVVVVVVVVVVVVVVVVVVVVVVVVVVVVVVVVVVVVVVVVVVVVVVVVVVVVVVVVVVVVVVVVVVVVVVVTEFNRTMu//NExKwAAANIAAAAADEwMFVVVVVVVVVVVVVVVVVVVVVVVVVVVVVVVVVVVVVVVVVVVVVVVVVVVVVVVVVVVVVVVVVVVVVVVVVVVVVVVVVVVVVVVVVVVVVVVVVVVVVVVVVV//NExKwAAANIAAAAAFVVVVVVVVVVVVVVVVVVVVVVVVVVVVVVVVVVVVVVVVVVVVVVVVVVVVVVVVVVVVVVVVVVVVVVVVVVVVVVVVVVVVVVVVVVVVVVVVVVVVVVVVVVVVVV//NExKwAAANIAAAAAFVVVVVVVVVVVVVVVVVVVVVVVVVVVVVVVVVVVVVVVVVVVVVVVVVVVVVVVVVVVVVVVVVVVVVVVVVVVVVVVVVVVVVVVVVVVVVVVVVVVVVVVVVVVVVV\" type=\"audio/x-wav\" />\n",
              "                    Your browser does not support the audio element.\n",
              "                </audio>\n",
              "              "
            ]
          },
          "metadata": {}
        }
      ]
    },
    {
      "cell_type": "markdown",
      "id": "862598a5",
      "metadata": {
        "id": "862598a5"
      },
      "source": [
        "### [실습문제]\n",
        "아래 조건을 만족하는 커피 키오스크 머신을 만들어보세요.<br><br>\n",
        "[커피 자동주문 머신]<br>\n",
        "친구들과 현금 커피 키오스크 머신 앞에서\n",
        " - 아메리카노 2잔과 카페라테 2잔 카푸치노 1잔을 주문하였다.\n",
        " - 아메리카노 한잔에 2500원이고\n",
        " - 카페라테는 한잔에 3000원\n",
        " - 카푸치노는 한잔에 3000원이다.\n",
        "커피 종류와 잔 수를 결정한 후 현금 15000원을 투입하고 잔돈을 1000원 받았다."
      ]
    },
    {
      "cell_type": "code",
      "execution_count": null,
      "id": "0d6035c2",
      "metadata": {
        "colab": {
          "base_uri": "https://localhost:8080/",
          "height": 536
        },
        "id": "0d6035c2",
        "outputId": "d99718a2-7622-4c18-e232-28944746575a"
      },
      "outputs": [
        {
          "output_type": "stream",
          "name": "stdout",
          "text": [
            "[커피 자동주문 머신 메뉴]\n",
            "------------------------------\n",
            "-아메리카노는 2500원\n",
            "-카레라떼는 3000원\n",
            "-카푸치노는 3000원\n",
            "입니다. 원하시는 커피종류와 잔수를 입력하세요.\n",
            "------------------------------\n"
          ]
        },
        {
          "output_type": "error",
          "ename": "KeyboardInterrupt",
          "evalue": "ignored",
          "traceback": [
            "\u001b[0;31m---------------------------------------------------------------------------\u001b[0m",
            "\u001b[0;31mKeyboardInterrupt\u001b[0m                         Traceback (most recent call last)",
            "\u001b[0;32m<ipython-input-53-972d1e115968>\u001b[0m in \u001b[0;36m<cell line: 9>\u001b[0;34m()\u001b[0m\n\u001b[1;32m      7\u001b[0m ------------------------------'''\n\u001b[1;32m      8\u001b[0m \u001b[0mprint\u001b[0m\u001b[0;34m(\u001b[0m\u001b[0mmenu\u001b[0m\u001b[0;34m)\u001b[0m\u001b[0;34m\u001b[0m\u001b[0;34m\u001b[0m\u001b[0m\n\u001b[0;32m----> 9\u001b[0;31m \u001b[0mcoffee1\u001b[0m \u001b[0;34m=\u001b[0m \u001b[0mint\u001b[0m\u001b[0;34m(\u001b[0m\u001b[0minput\u001b[0m\u001b[0;34m(\u001b[0m\u001b[0;34m\"아메리카노 몇잔?\"\u001b[0m\u001b[0;34m)\u001b[0m\u001b[0;34m)\u001b[0m\u001b[0;34m\u001b[0m\u001b[0;34m\u001b[0m\u001b[0m\n\u001b[0m\u001b[1;32m     10\u001b[0m \u001b[0mcoffee2\u001b[0m \u001b[0;34m=\u001b[0m \u001b[0mint\u001b[0m\u001b[0;34m(\u001b[0m\u001b[0minput\u001b[0m\u001b[0;34m(\u001b[0m\u001b[0;34m\"카페라떼 몇잔?\"\u001b[0m\u001b[0;34m)\u001b[0m\u001b[0;34m)\u001b[0m\u001b[0;34m\u001b[0m\u001b[0;34m\u001b[0m\u001b[0m\n\u001b[1;32m     11\u001b[0m \u001b[0mcoffee3\u001b[0m \u001b[0;34m=\u001b[0m \u001b[0mint\u001b[0m\u001b[0;34m(\u001b[0m\u001b[0minput\u001b[0m\u001b[0;34m(\u001b[0m\u001b[0;34m\"카푸치노 몇잔?\"\u001b[0m\u001b[0;34m)\u001b[0m\u001b[0;34m)\u001b[0m\u001b[0;34m\u001b[0m\u001b[0;34m\u001b[0m\u001b[0m\n",
            "\u001b[0;32m/usr/local/lib/python3.10/dist-packages/ipykernel/kernelbase.py\u001b[0m in \u001b[0;36mraw_input\u001b[0;34m(self, prompt)\u001b[0m\n\u001b[1;32m    849\u001b[0m                 \u001b[0;34m\"raw_input was called, but this frontend does not support input requests.\"\u001b[0m\u001b[0;34m\u001b[0m\u001b[0;34m\u001b[0m\u001b[0m\n\u001b[1;32m    850\u001b[0m             )\n\u001b[0;32m--> 851\u001b[0;31m         return self._input_request(str(prompt),\n\u001b[0m\u001b[1;32m    852\u001b[0m             \u001b[0mself\u001b[0m\u001b[0;34m.\u001b[0m\u001b[0m_parent_ident\u001b[0m\u001b[0;34m,\u001b[0m\u001b[0;34m\u001b[0m\u001b[0;34m\u001b[0m\u001b[0m\n\u001b[1;32m    853\u001b[0m             \u001b[0mself\u001b[0m\u001b[0;34m.\u001b[0m\u001b[0m_parent_header\u001b[0m\u001b[0;34m,\u001b[0m\u001b[0;34m\u001b[0m\u001b[0;34m\u001b[0m\u001b[0m\n",
            "\u001b[0;32m/usr/local/lib/python3.10/dist-packages/ipykernel/kernelbase.py\u001b[0m in \u001b[0;36m_input_request\u001b[0;34m(self, prompt, ident, parent, password)\u001b[0m\n\u001b[1;32m    893\u001b[0m             \u001b[0;32mexcept\u001b[0m \u001b[0mKeyboardInterrupt\u001b[0m\u001b[0;34m:\u001b[0m\u001b[0;34m\u001b[0m\u001b[0;34m\u001b[0m\u001b[0m\n\u001b[1;32m    894\u001b[0m                 \u001b[0;31m# re-raise KeyboardInterrupt, to truncate traceback\u001b[0m\u001b[0;34m\u001b[0m\u001b[0;34m\u001b[0m\u001b[0m\n\u001b[0;32m--> 895\u001b[0;31m                 \u001b[0;32mraise\u001b[0m \u001b[0mKeyboardInterrupt\u001b[0m\u001b[0;34m(\u001b[0m\u001b[0;34m\"Interrupted by user\"\u001b[0m\u001b[0;34m)\u001b[0m \u001b[0;32mfrom\u001b[0m \u001b[0;32mNone\u001b[0m\u001b[0;34m\u001b[0m\u001b[0;34m\u001b[0m\u001b[0m\n\u001b[0m\u001b[1;32m    896\u001b[0m             \u001b[0;32mexcept\u001b[0m \u001b[0mException\u001b[0m \u001b[0;32mas\u001b[0m \u001b[0me\u001b[0m\u001b[0;34m:\u001b[0m\u001b[0;34m\u001b[0m\u001b[0;34m\u001b[0m\u001b[0m\n\u001b[1;32m    897\u001b[0m                 \u001b[0mself\u001b[0m\u001b[0;34m.\u001b[0m\u001b[0mlog\u001b[0m\u001b[0;34m.\u001b[0m\u001b[0mwarning\u001b[0m\u001b[0;34m(\u001b[0m\u001b[0;34m\"Invalid Message:\"\u001b[0m\u001b[0;34m,\u001b[0m \u001b[0mexc_info\u001b[0m\u001b[0;34m=\u001b[0m\u001b[0;32mTrue\u001b[0m\u001b[0;34m)\u001b[0m\u001b[0;34m\u001b[0m\u001b[0;34m\u001b[0m\u001b[0m\n",
            "\u001b[0;31mKeyboardInterrupt\u001b[0m: Interrupted by user"
          ]
        }
      ],
      "source": [
        "menu = '''[커피 자동주문 머신 메뉴]\n",
        "------------------------------\n",
        "-아메리카노는 2500원\n",
        "-카레라떼는 3000원\n",
        "-카푸치노는 3000원\n",
        "입니다. 원하시는 커피종류와 잔수를 입력하세요.\n",
        "------------------------------'''\n",
        "print(menu)\n",
        "coffee1 = int(input(\"아메리카노 몇잔?\"))\n",
        "coffee2 = int(input(\"카페라떼 몇잔?\"))\n",
        "coffee3 = int(input(\"카푸치노 몇잔?\"))\n",
        "\n",
        "total = (coffee1*2500) + (coffee2*3000) + (coffee3*3000)\n",
        "print(f'지불할 총 금액은 {total} 원 입니다.')\n",
        "\n",
        "money = int(input(f'{total}원을 넣어주세요~'))\n",
        "addmoney = 0\n",
        "change = 0\n",
        "if money < total:\n",
        "    addmoney = total - money\n",
        "    print(f'입력한 금액이 부족합니다. {addmoney}원을 더 넣어주세요.')\n",
        "elif money > total:\n",
        "    change = money - total\n",
        "    print(f'거스름돈은 {change}원 입니다.')\n",
        "print('-' * 30)\n",
        "\n",
        "total = 2500*coffee1 + 3000*coffee2 + 3000*coffee3\n",
        "print(f'지불할 총 금액은 : {total}원 입니다.')\n"
      ]
    },
    {
      "cell_type": "code",
      "source": [
        "# 선생님 버전\n",
        "menu = '''[커피 자동주문 머신 메뉴]\n",
        "------------------------------\n",
        "-아메리카노는 2500원\n",
        "-카레라떼는 3000원\n",
        "-카푸치노는 3000원\n",
        "입니다. 원하시는 커피종류와 잔수를 입력하세요.\n",
        "------------------------------'''\n",
        "print(menu)\n",
        "coffee1 = int(input(\"아메리카노 몇잔?: \"))\n",
        "coffee2 = int(input(\"카페라떼 몇잔?: \"))\n",
        "coffee3 = int(input(\"카푸치노 몇잔?: \"))\n",
        "\n",
        "total = 2500*coffee1 + 3000*coffee2 + 3000*coffee3\n",
        "print(f'지불할 총 금액은 : {total}원 입니다.')\n",
        "\n",
        "money = int(input(f'{total}원을 넣어주세요.'))\n",
        "if total > money:\n",
        "    print(f'돈이 부족합니다. {total - money}원을 더 넣어주세요.')\n",
        "else:\n",
        "    print(f'잔돈 {abs(total - money)}원 입니다. 커피 맛있게 드세요~')"
      ],
      "metadata": {
        "id": "_PhIOZ6cGTlV"
      },
      "id": "_PhIOZ6cGTlV",
      "execution_count": null,
      "outputs": []
    },
    {
      "cell_type": "markdown",
      "source": [
        "### 간소화된 조건문 표현식"
      ],
      "metadata": {
        "id": "MzhU89JqGbZ9"
      },
      "id": "MzhU89JqGbZ9"
    },
    {
      "cell_type": "code",
      "source": [
        " score = int(input('점수를 입력하세요: '))\n",
        " if score >= 80:\n",
        "    message = '성공'\n",
        " else:\n",
        "    message = '실패'\n",
        "print(f'{score}점일 때 {message}!')"
      ],
      "metadata": {
        "colab": {
          "base_uri": "https://localhost:8080/"
        },
        "id": "r58qfPjbGeDx",
        "outputId": "b45b4217-9c0c-47bf-bc42-a7d67521d64f"
      },
      "id": "r58qfPjbGeDx",
      "execution_count": null,
      "outputs": [
        {
          "output_type": "stream",
          "name": "stdout",
          "text": [
            "점수를 입력하세요: 40\n",
            "40점일 때 실패!\n"
          ]
        }
      ]
    },
    {
      "cell_type": "code",
      "source": [
        " score = int(input('점수를 입력하세요: '))\n",
        "#  message = '성공' if score >= 80 else '실패'\n",
        " print(f\"{score}점일 때 {'성공' if score >= 80 else '실패'}!\")"
      ],
      "metadata": {
        "colab": {
          "base_uri": "https://localhost:8080/"
        },
        "id": "zUcQnj-gG2sw",
        "outputId": "c1600359-dc59-44ba-f3e5-d0a5d86ea3b2"
      },
      "id": "zUcQnj-gG2sw",
      "execution_count": null,
      "outputs": [
        {
          "output_type": "stream",
          "name": "stdout",
          "text": [
            "점수를 입력하세요: 100\n",
            "100점일 때 성공!\n"
          ]
        }
      ]
    },
    {
      "cell_type": "markdown",
      "id": "67412428",
      "metadata": {
        "id": "67412428"
      },
      "source": [
        "## 3-2.반복문"
      ]
    },
    {
      "cell_type": "markdown",
      "id": "44197774",
      "metadata": {
        "id": "44197774"
      },
      "source": [
        "### 반복문: for 반복문"
      ]
    },
    {
      "cell_type": "markdown",
      "source": [
        "####  1.range() 함수 사용하여 반복하기"
      ],
      "metadata": {
        "id": "kq7HeE2pJlil"
      },
      "id": "kq7HeE2pJlil"
    },
    {
      "cell_type": "code",
      "execution_count": null,
      "id": "9f69ecc4",
      "metadata": {
        "scrolled": true,
        "colab": {
          "base_uri": "https://localhost:8080/"
        },
        "id": "9f69ecc4",
        "outputId": "bb2128fe-04c4-4398-ffca-64a17f13b3b5"
      },
      "outputs": [
        {
          "output_type": "stream",
          "name": "stdout",
          "text": [
            "1 번째 for 반복문입니다.\n",
            "2 번째 for 반복문입니다.\n",
            "3 번째 for 반복문입니다.\n"
          ]
        }
      ],
      "source": [
        "# for i in range(0,3,1):\n",
        "# for i in range(0,3):\n",
        "for i in range(3):\n",
        "    print(i+1,'번째 for 반복문입니다.')"
      ]
    },
    {
      "cell_type": "markdown",
      "source": [
        "#### 2.문자열 길이를 이용하여 반복하기"
      ],
      "metadata": {
        "id": "zFAHLeKHJ-Ni"
      },
      "id": "zFAHLeKHJ-Ni"
    },
    {
      "cell_type": "code",
      "source": [
        "사과 = 'apple'\n",
        "for i in 사과:\n",
        "    print(i)"
      ],
      "metadata": {
        "colab": {
          "base_uri": "https://localhost:8080/"
        },
        "id": "_lLr2HZnJ9si",
        "outputId": "f04785cc-2433-4058-bb71-731df6f3afb5"
      },
      "id": "_lLr2HZnJ9si",
      "execution_count": null,
      "outputs": [
        {
          "output_type": "stream",
          "name": "stdout",
          "text": [
            "a\n",
            "p\n",
            "p\n",
            "l\n",
            "e\n"
          ]
        }
      ]
    },
    {
      "cell_type": "markdown",
      "source": [
        "#### 3.리스트를 이용하여 반복하기"
      ],
      "metadata": {
        "id": "rtHmbgqrLSuh"
      },
      "id": "rtHmbgqrLSuh"
    },
    {
      "cell_type": "code",
      "source": [
        "fruits = ['포도','사과','오렌지','바나나','체리']\n",
        "for fruit in fruits:\n",
        "    print(f'내가 좋아하는 과일 {fruit}!')"
      ],
      "metadata": {
        "colab": {
          "base_uri": "https://localhost:8080/"
        },
        "id": "jzfSjUAMLVm-",
        "outputId": "6532600e-8381-4140-b24e-b3f0a8c11149"
      },
      "id": "jzfSjUAMLVm-",
      "execution_count": null,
      "outputs": [
        {
          "output_type": "stream",
          "name": "stdout",
          "text": [
            "내가 좋아하는 과일 포도!\n",
            "내가 좋아하는 과일 사과!\n",
            "내가 좋아하는 과일 오렌지!\n",
            "내가 좋아하는 과일 바나나!\n",
            "내가 좋아하는 과일 체리!\n"
          ]
        }
      ]
    },
    {
      "cell_type": "code",
      "source": [
        "fruits = ['포도','사과','오렌지','바나나','체리']\n",
        "print('내가 좋아하는 과일은 ')\n",
        "for fruit in fruits:\n",
        "    print(fruit, end=' ')"
      ],
      "metadata": {
        "colab": {
          "base_uri": "https://localhost:8080/"
        },
        "id": "eG1-CXFGLzZv",
        "outputId": "7805cba1-8256-482c-8af8-d54924e4ef0d"
      },
      "id": "eG1-CXFGLzZv",
      "execution_count": null,
      "outputs": [
        {
          "output_type": "stream",
          "name": "stdout",
          "text": [
            "내가 좋아하는 과일은 \n",
            "포도 사과 오렌지 바나나 체리 "
          ]
        }
      ]
    },
    {
      "cell_type": "markdown",
      "id": "8288e636",
      "metadata": {
        "id": "8288e636"
      },
      "source": [
        "### [실습문제]\n",
        "키보드로 양의 정수(n)을 입력 받아 1~n까지의 합을 구하는 프로그램을 만들어 보세요."
      ]
    },
    {
      "cell_type": "code",
      "execution_count": null,
      "id": "d6774150",
      "metadata": {
        "colab": {
          "base_uri": "https://localhost:8080/"
        },
        "id": "d6774150",
        "outputId": "062e80a9-4d62-477d-e786-8465c86de314"
      },
      "outputs": [
        {
          "output_type": "stream",
          "name": "stdout",
          "text": [
            "숫자를 입력하세요:4\n",
            "0+1\n",
            "=1\n",
            "1+2\n",
            "=3\n",
            "3+3\n",
            "=6\n",
            "6+4\n",
            "=10\n",
            "1~4까지 합은 10입니다.\n"
          ]
        }
      ],
      "source": [
        "# 방법 1.\n",
        "# 1. 숫자 N을 입력하세요.\n",
        "n = int(input('숫자를 입력하세요:'))\n",
        "\n",
        "# 2. 1~N까지 합계를 구하세요.\n",
        "hap = 0\n",
        "for i in range(1, n+1, 1):\n",
        "    print(f'{hap}+{i}')\n",
        "    hap = hap + i\n",
        "    print(f'={hap}')\n",
        "print(f'1~{n}까지 합은 {hap}입니다.')\n"
      ]
    },
    {
      "cell_type": "code",
      "source": [
        "# 방법2:\n",
        "n = int(input('숫자를 입력하세요: '))\n",
        "hap = 0\n",
        "for i in range(1,n+1,2):\n",
        "    hap = hap + i\n",
        "print(f'1~{n}까지 합은 {hap}입니다.')"
      ],
      "metadata": {
        "id": "gSgspIiyRKxc"
      },
      "id": "gSgspIiyRKxc",
      "execution_count": null,
      "outputs": []
    },
    {
      "cell_type": "markdown",
      "id": "aae06acb",
      "metadata": {
        "id": "aae06acb"
      },
      "source": [
        "### [실습문제]\n",
        "키보드로 양의 정수(n)을 입력 받아 1~n까지의 합을 구할 때 짝수를 제외하고 합을 구하는 프로그램을 만들어 보세요."
      ]
    },
    {
      "cell_type": "code",
      "execution_count": null,
      "id": "c87285cf",
      "metadata": {
        "colab": {
          "base_uri": "https://localhost:8080/"
        },
        "id": "c87285cf",
        "outputId": "6ecdc62e-50e1-4fa3-8b60-e06ea210325a"
      },
      "outputs": [
        {
          "output_type": "stream",
          "name": "stdout",
          "text": [
            "숫자를 입력하세요:13\n",
            "1~13까지 합은 49입니다.\n"
          ]
        }
      ],
      "source": [
        "# 1. 숫자 N을 입력하세요.\n",
        "n = int(input('숫자를 입력하세요:'))\n",
        "\n",
        "# 2. 1~N까지 합계를 구하세요.\n",
        "hap = 0\n",
        "for i in range(1, n+1, 1):\n",
        "    if i%2 == 0 : # 짝수\n",
        "        continue  # skip=pass\n",
        "    else:\n",
        "        hap = hap + i\n",
        "print(f'1~{n}까지 합은 {hap}입니다.')"
      ]
    },
    {
      "cell_type": "markdown",
      "id": "ac62e6f7",
      "metadata": {
        "id": "ac62e6f7"
      },
      "source": [
        "### 반복문: while 반복문"
      ]
    },
    {
      "cell_type": "code",
      "source": [
        "num1, num2 = 1, 1\n",
        "\n",
        "while num1 != 0:\n",
        "    num1 = int(input(\"더할 첫 번째 숫자: \"))\n",
        "    num2 = int(input(\"더할 두 번째 숫자: \"))\n",
        "    print(f'{num1} + {num2} = {num1 + num2}')\n",
        "\n",
        "print(\"0을 입력해서 반복문을 탈출했습니다.\")"
      ],
      "metadata": {
        "colab": {
          "base_uri": "https://localhost:8080/"
        },
        "id": "DLZBVRBoWe9D",
        "outputId": "10a0b41d-9092-4d88-ef56-430b0f5f01e1"
      },
      "id": "DLZBVRBoWe9D",
      "execution_count": null,
      "outputs": [
        {
          "output_type": "stream",
          "name": "stdout",
          "text": [
            "더할 첫 번째 숫자: 50\n",
            "더할 두 번째 숫자: 100\n",
            "50 + 100 = 150\n",
            "더할 첫 번째 숫자: 50\n",
            "더할 두 번째 숫자: 20\n",
            "50 + 20 = 70\n",
            "더할 첫 번째 숫자: -30\n",
            "더할 두 번째 숫자: -50\n",
            "-30 + -50 = -80\n",
            "더할 첫 번째 숫자: 0\n",
            "더할 두 번째 숫자: 0\n",
            "0 + 0 = 0\n",
            "0을 입력해서 반복문을 탈출했습니다.\n"
          ]
        }
      ]
    },
    {
      "cell_type": "code",
      "execution_count": null,
      "id": "f2fb3ce9",
      "metadata": {
        "id": "f2fb3ce9"
      },
      "outputs": [],
      "source": [
        "num1, num2 = 0, 0\n",
        "\n",
        "while True:\n",
        "    num1 = int(input(\"더할 첫 번째 숫자: \"))\n",
        "    if num1 == 0:\n",
        "        break\n",
        "\n",
        "    num2 = int(input(\"더할 두 번째 숫자: \"))\n",
        "\n",
        "    print(f'{num1} + {num2} = {num1 + num2}')\n",
        "\n",
        "print(\"0을 입력해서 반복문을 탈출했습니다.\")"
      ]
    },
    {
      "cell_type": "markdown",
      "id": "02a797a4",
      "metadata": {
        "id": "02a797a4"
      },
      "source": [
        "### [실습문제] 도둑잡기 게임 만들기\n",
        "경찰에 쫓기던 범인이 3개의 방 중에 한 곳에 숨어버렸습니다. 범인은 방문을 열 때마다 무작위로 3개의 방 중 하나의 방으로 이동합니다. 3개의 방 중 하나의 방을 선택했을 때 범인이 있다면 100점, 없을 때 -10점을 부여하고 범인을 잡으면 게임을 종료하는 프로그램을 만들어 보세요."
      ]
    },
    {
      "cell_type": "code",
      "execution_count": null,
      "id": "e08b9dc4",
      "metadata": {
        "colab": {
          "base_uri": "https://localhost:8080/"
        },
        "id": "e08b9dc4",
        "outputId": "99251dda-f578-491a-d000-675e956dc5df"
      },
      "outputs": [
        {
          "output_type": "stream",
          "name": "stdout",
          "text": [
            "도둑이 숨은 방 번호는?(1,2,3): 2\n",
            "찾았다! 도둑이 있는 방입니다.\n",
            "게임이 종료됩니다.---------------------\n",
            "도둑이 있는 방은 2번 방입니다. 점수는 100점!\n"
          ]
        }
      ],
      "source": [
        "import random\n",
        "score = 0\n",
        "while True: # 무한 반복\n",
        "    room = random.randint(1, 3) # 1~3정수 중 임의의 수 선택\n",
        "    n = int(input('도둑이 숨은 방 번호는?(1,2,3): '))\n",
        "    # 비교\n",
        "    if n == room :\n",
        "        print('찾았다! 도둑이 있는 방입니다.')\n",
        "        score = score + 100 # socre += 100\n",
        "        break\n",
        "    else:\n",
        "        print('이 방에는 도둑이 없습니다.')\n",
        "        score -= 10\n",
        "print('게임이 종료됩니다.---------------------')\n",
        "print(f'도둑이 있는 방은 {room}번 방입니다. 점수는 {score}점!')"
      ]
    },
    {
      "cell_type": "markdown",
      "id": "0d03701c",
      "metadata": {
        "id": "0d03701c"
      },
      "source": [
        "### [실습문제] 공이 튕긴 횟수 구하기\n",
        "공을 일정 높이에서 떨어뜨리면, 원래 높이의 1/2만큼 튀어 오릅니다. 이를 반복하다가 높이가 0.00001m보다 낮으면 튀어 오르지 않습니다. while문을 이용하여 공이 튀어 오르는 총 횟수를 구하는 프로그램을 만들어 보세요."
      ]
    },
    {
      "cell_type": "markdown",
      "source": [
        "#### Version 1"
      ],
      "metadata": {
        "id": "xbN01Q7TznWF"
      },
      "id": "xbN01Q7TznWF"
    },
    {
      "cell_type": "code",
      "execution_count": 4,
      "id": "1ac5675e",
      "metadata": {
        "scrolled": true,
        "id": "1ac5675e",
        "colab": {
          "base_uri": "https://localhost:8080/"
        },
        "outputId": "339c12ed-1741-4fa6-83bb-a9dd16bab0fe"
      },
      "outputs": [
        {
          "output_type": "stream",
          "name": "stdout",
          "text": [
            "공의 높이를 입력하세요(meter) : 30\n",
            "--------------------------------------------------\n",
            "30 위치에서 공의 튕긴 횟수는 총 22번 입니다.\n"
          ]
        }
      ],
      "source": [
        "length = int(input('공의 높이를 입력하세요(meter) : '))\n",
        "meter, cnt = length, 0\n",
        "\n",
        "while meter >= 0.00001:  # 참이 될 조건을 넣어준다\n",
        "    cnt += 1    # 1씩 증가\n",
        "    meter = meter / 2   # length의 값을 보전 해놔야하기 때문에 meter로 나눠야함\n",
        "\n",
        "print('-'*50)\n",
        "print(f'{length} 위치에서 공의 튕긴 횟수는 총 {cnt}번 입니다.')\n"
      ]
    },
    {
      "cell_type": "markdown",
      "source": [
        "#### Version 2"
      ],
      "metadata": {
        "id": "OBMVp61yzrlp"
      },
      "id": "OBMVp61yzrlp"
    },
    {
      "cell_type": "code",
      "source": [
        "length = int(input('공의 높이를 입력하세요(meter) : '))\n",
        "meter, cnt = length, 0\n",
        "\n",
        "while True: # 참인 조건식\n",
        "    cnt += 1    # 1씩 증가\n",
        "    meter = meter / 2   # length의 값을 보전 해놔야하기 때문에 meter로 나눠야함\n",
        "    if meter < 0.00001:\n",
        "        break\n",
        "\n",
        "print('-'*50)\n",
        "print(f'{length} 위치에서 공의 튕긴 횟수는 총 {cnt}번 입니다.')"
      ],
      "metadata": {
        "colab": {
          "base_uri": "https://localhost:8080/"
        },
        "id": "Z72hhJeXzlUn",
        "outputId": "94bc5c5f-5af0-4bab-da46-ddfbdf7bc091"
      },
      "id": "Z72hhJeXzlUn",
      "execution_count": 5,
      "outputs": [
        {
          "output_type": "stream",
          "name": "stdout",
          "text": [
            "공의 높이를 입력하세요(meter) : 100\n",
            "--------------------------------------------------\n",
            "100 위치에서 공의 튕긴 횟수는 총 24번 입니다.\n"
          ]
        }
      ]
    },
    {
      "cell_type": "markdown",
      "source": [],
      "metadata": {
        "id": "u0h25rZr0KZZ"
      },
      "id": "u0h25rZr0KZZ"
    },
    {
      "cell_type": "markdown",
      "id": "ecdb476f",
      "metadata": {
        "id": "ecdb476f"
      },
      "source": [
        "### [실습문제] 커피 자동주문 프로그램 업그레이드\n",
        "앞에서 만들어 본 커피 자동주문 머신 프로그램을 while문을 이용하여 돈을 모두 지불할 때까지 돈을 입력 받도록 프로그램 기능 수정하기"
      ]
    },
    {
      "cell_type": "code",
      "execution_count": null,
      "id": "2ce8fbfc",
      "metadata": {
        "scrolled": true,
        "colab": {
          "base_uri": "https://localhost:8080/"
        },
        "id": "2ce8fbfc",
        "outputId": "a1960cba-5732-4983-bd83-6fe4d5dad965"
      },
      "outputs": [
        {
          "output_type": "stream",
          "name": "stdout",
          "text": [
            "[커피 자동주문 머신 메뉴]\n",
            "------------------------------\n",
            "-아메리카노는 2500원\n",
            "-카레라떼는 3000원\n",
            "-카푸치노는 3000원\n",
            "입니다. 원하시는 커피종류와 잔수를 입력하세요.\n",
            "------------------------------\n",
            "아메리카노 몇잔?1\n",
            "카페라떼 몇잔?1\n",
            "카푸치노 몇잔?1\n",
            "지불할 총 금액은  8500 원 입니다\n",
            "--------------------------------------------------\n",
            "[지불할 금액:8500] : 돈을 넣어주세요: 1000\n",
            "입력한 금액이 부족합니다.7500원을 더 넣어주세요.\n",
            "--------------------------------------------------\n",
            "[지불할 금액:7500] : 돈을 넣어주세요: 2000\n",
            "입력한 금액이 부족합니다.5500원을 더 넣어주세요.\n",
            "--------------------------------------------------\n",
            "[지불할 금액:5500] : 돈을 넣어주세요: 5500\n",
            "거스름돈은 0원 입니다.\n",
            "--------------------------------------------------\n",
            "커피 맛있게 드세요~\n"
          ]
        }
      ],
      "source": [
        "menu = '''[커피 자동주문 머신 메뉴]\n",
        "------------------------------\n",
        "-아메리카노는 2500원\n",
        "-카레라떼는 3000원\n",
        "-카푸치노는 3000원\n",
        "입니다. 원하시는 커피종류와 잔수를 입력하세요.\n",
        "------------------------------'''\n",
        "print(menu)\n",
        "coffee1 = int(input(\"아메리카노 몇잔?\"))\n",
        "coffee2 = int(input(\"카페라떼 몇잔?\"))\n",
        "coffee3 = int(input(\"카푸치노 몇잔?\"))\n",
        "\n",
        "total = coffee1*2500 + coffee2*3000 + coffee3*3000\n",
        "print(\"지불할 총 금액은 \", total, \"원 입니다\")\n",
        "\n",
        "while True:\n",
        "    print('-'*50)\n",
        "    money = int(input(f'[지불할 금액:{total}] : 돈을 넣어주세요: '))\n",
        "    if total > money :\n",
        "        print(f'입력한 금액이 부족합니다.{total - money}원을 더 넣어주세요.')\n",
        "        total = total - money   # 여기가 중요함!!\n",
        "    else:\n",
        "        print(f'거스름돈은 {money - total}원 입니다.')\n",
        "        break   # while문은 break 조건이 꼭 있어야 한다\n",
        "\n",
        "print('-'*50)\n",
        "print('커피 맛있게 드세요~')\n",
        "\n",
        "\n",
        "\n",
        "\n",
        "\n"
      ]
    },
    {
      "cell_type": "markdown",
      "id": "af0e48ab",
      "metadata": {
        "id": "af0e48ab"
      },
      "source": [
        "## 3-3.난수(Random Variable)"
      ]
    },
    {
      "cell_type": "markdown",
      "id": "e34c55ca",
      "metadata": {
        "id": "e34c55ca"
      },
      "source": [
        "### [실습문제] 임의의 두 수 합 구하기\n",
        "1부터 10까지의 범위를 갖는 임의의 두 정수 a, b를 더하여 결과 출력하기"
      ]
    },
    {
      "cell_type": "code",
      "execution_count": 16,
      "id": "3c007936",
      "metadata": {
        "id": "3c007936",
        "colab": {
          "base_uri": "https://localhost:8080/"
        },
        "outputId": "e4df8776-d5ed-4c37-81ae-278d598485f1"
      },
      "outputs": [
        {
          "output_type": "stream",
          "name": "stdout",
          "text": [
            "4 + 7 = 11\n"
          ]
        }
      ],
      "source": [
        "import random\n",
        "\n",
        "a = random.randrange(1,11,1)\n",
        "b = random.randrange(1,11,1)\n",
        "\n",
        "print(f'{a} + {b} = {a + b}')"
      ]
    },
    {
      "cell_type": "markdown",
      "id": "357e1bdd",
      "metadata": {
        "id": "357e1bdd"
      },
      "source": [
        "### [실습문제]\n",
        "주사위를 100번 던져서 나오는 숫자를 각 숫자별로 카운트하고 가장 많이 나온 숫자와 그 숫자의 횟수를 출력하시오."
      ]
    },
    {
      "cell_type": "markdown",
      "source": [
        "#### my attempt"
      ],
      "metadata": {
        "id": "BBPEjcoY7Zvx"
      },
      "id": "BBPEjcoY7Zvx"
    },
    {
      "cell_type": "code",
      "execution_count": 17,
      "id": "782da2b4",
      "metadata": {
        "id": "782da2b4",
        "colab": {
          "base_uri": "https://localhost:8080/",
          "height": 145
        },
        "outputId": "f961138f-0de8-424c-82df-0fd842cc52f3"
      },
      "outputs": [
        {
          "output_type": "error",
          "ename": "SyntaxError",
          "evalue": "ignored",
          "traceback": [
            "\u001b[0;36m  File \u001b[0;32m\"<ipython-input-17-e81b420b874b>\"\u001b[0;36m, line \u001b[0;32m5\u001b[0m\n\u001b[0;31m    if:\u001b[0m\n\u001b[0m      ^\u001b[0m\n\u001b[0;31mSyntaxError\u001b[0m\u001b[0;31m:\u001b[0m invalid syntax\n"
          ]
        }
      ],
      "source": [
        "import random\n",
        "\n",
        "dice = [1,2,3,4,5,6]\n",
        "\n",
        "while true:\n",
        "    times = list(random.shuffle(dice)*100)\n",
        "    if:\n",
        "        break\n",
        "\n",
        "print(f'가장 많이 나온 주사위 숫자: {}')"
      ]
    },
    {
      "cell_type": "markdown",
      "source": [
        "Teacher's version"
      ],
      "metadata": {
        "id": "CS-82aqE7csq"
      },
      "id": "CS-82aqE7csq"
    },
    {
      "cell_type": "code",
      "source": [
        "import random\n",
        "\n",
        "x1, x2, x3, x4, x5, x6 = 0,0,0,0,0,0\n",
        "for i in range(100) : # 0~99까지 돈다\n",
        "    x = random.randint(1,6)\n",
        "    if x==1: x1 += 1\n",
        "    if x==2: x2 += 1\n",
        "    if x==3: x3 += 1\n",
        "    if x==4: x4 += 1\n",
        "    if x==5: x5 += 1\n",
        "    if x==6: x6 += 1\n",
        "   # 이렇게 넣어도 되지만...변수가 너무 많으니 아래 방법으로"
      ],
      "metadata": {
        "id": "gKQao4f87ftb"
      },
      "id": "gKQao4f87ftb",
      "execution_count": 18,
      "outputs": []
    },
    {
      "cell_type": "code",
      "source": [
        "import random\n",
        "\n",
        "dice = [0,0,0,0,0,0]\n",
        "for i in range(100) : # 0~99까지 돈다\n",
        "    x = random.randint(1,6)\n",
        "    dice[x-1] = dice[x-1] + 1\n",
        "\n",
        "print(dice)\n",
        "print(f'가장 많이 나온 숫자:{dice.index(max(dice))+1} 그 숫자의 횟수:{max(dice)}')"
      ],
      "metadata": {
        "colab": {
          "base_uri": "https://localhost:8080/"
        },
        "id": "uEZsCWu08RuE",
        "outputId": "38354a22-af81-422c-8bfd-c749d9cfaf0d"
      },
      "id": "uEZsCWu08RuE",
      "execution_count": 22,
      "outputs": [
        {
          "output_type": "stream",
          "name": "stdout",
          "text": [
            "[9, 16, 13, 18, 22, 22]\n",
            "가장 많이 나온 숫자:5 그 숫자의 횟수:22\n"
          ]
        }
      ]
    },
    {
      "cell_type": "markdown",
      "id": "45e329e4",
      "metadata": {
        "id": "45e329e4"
      },
      "source": [
        "------------------------"
      ]
    },
    {
      "cell_type": "markdown",
      "source": [
        "###리스트 컴프리헨션"
      ],
      "metadata": {
        "id": "xyPrfGO9Cyho"
      },
      "id": "xyPrfGO9Cyho"
    },
    {
      "cell_type": "code",
      "source": [
        "# 리스트에 데이터 넣어 출력하기\n",
        "a = [] # a = list()\n",
        "for i in range(1,6):\n",
        "    a.append(i)\n",
        "print(a)\n",
        "\n",
        "[1, 2, 3, 4, 5]"
      ],
      "metadata": {
        "colab": {
          "base_uri": "https://localhost:8080/"
        },
        "id": "YxGGYErDDHz0",
        "outputId": "20105a96-34ff-45be-b6f4-7ff37be5b00b"
      },
      "id": "YxGGYErDDHz0",
      "execution_count": 25,
      "outputs": [
        {
          "output_type": "stream",
          "name": "stdout",
          "text": [
            "[1, 2, 3, 4, 5]\n"
          ]
        }
      ]
    },
    {
      "cell_type": "code",
      "source": [
        "# 컴프리헨션 방법\n",
        "a = [ i for i in range(1,6)]\n",
        "print(a)"
      ],
      "metadata": {
        "colab": {
          "base_uri": "https://localhost:8080/"
        },
        "id": "hNRr_elBDj24",
        "outputId": "e980fcca-e914-45a3-a812-6580bd5239df"
      },
      "id": "hNRr_elBDj24",
      "execution_count": 23,
      "outputs": [
        {
          "output_type": "stream",
          "name": "stdout",
          "text": [
            "[1, 2, 3, 4, 5]\n"
          ]
        }
      ]
    },
    {
      "cell_type": "code",
      "source": [
        "# 1~10 중 3의 배수만 리스트로 만들기\n",
        "a = [i for i in range(1,11) if i%3==0]\n",
        "print(a)"
      ],
      "metadata": {
        "colab": {
          "base_uri": "https://localhost:8080/"
        },
        "id": "c7BfwWWKDzgS",
        "outputId": "5eb318d9-1737-4d99-a8b1-6130f8d0d169"
      },
      "id": "c7BfwWWKDzgS",
      "execution_count": 27,
      "outputs": [
        {
          "output_type": "stream",
          "name": "stdout",
          "text": [
            "[3, 6, 9]\n"
          ]
        }
      ]
    },
    {
      "cell_type": "code",
      "source": [
        "colors = ['r', 'g', 'b']\n",
        "a = [ c*3 for c in colors ]\n",
        "print(a)"
      ],
      "metadata": {
        "colab": {
          "base_uri": "https://localhost:8080/"
        },
        "id": "vk07GS9AERBo",
        "outputId": "2be6409f-b3b7-4643-c902-9daac3f19abf"
      },
      "id": "vk07GS9AERBo",
      "execution_count": 28,
      "outputs": [
        {
          "output_type": "stream",
          "name": "stdout",
          "text": [
            "['rrr', 'ggg', 'bbb']\n"
          ]
        }
      ]
    },
    {
      "cell_type": "code",
      "source": [
        "a = [ str(i) if i%3==0 else i for i in range(1,11)]\n",
        "print(a)\n"
      ],
      "metadata": {
        "colab": {
          "base_uri": "https://localhost:8080/"
        },
        "id": "4ySsfXczEoJP",
        "outputId": "5856aab8-cc04-43bf-ce63-96472448aa04"
      },
      "id": "4ySsfXczEoJP",
      "execution_count": 29,
      "outputs": [
        {
          "output_type": "stream",
          "name": "stdout",
          "text": [
            "[1, 2, '3', 4, 5, '6', 7, 8, '9', 10]\n"
          ]
        }
      ]
    },
    {
      "cell_type": "markdown",
      "source": [
        "### zip( )"
      ],
      "metadata": {
        "id": "C-gmNnXBH7HI"
      },
      "id": "C-gmNnXBH7HI"
    },
    {
      "cell_type": "code",
      "source": [
        "foods = ['떡볶이', '짜장면', '라면', '피자', '맥주', '삼겹살']\n",
        "sides = ['오뎅', '단무지', '김치', '피클', '치킨']\n",
        "for food, side in zip(foods, sides):\n",
        "    print(f'{food} --> {side}')\n",
        "\n",
        "dict(zip(foods, sides))"
      ],
      "metadata": {
        "colab": {
          "base_uri": "https://localhost:8080/"
        },
        "id": "VM1aoHR3IB-W",
        "outputId": "2366c0a0-3cf8-4d19-9b9d-ea1f26d32183"
      },
      "id": "VM1aoHR3IB-W",
      "execution_count": 31,
      "outputs": [
        {
          "output_type": "stream",
          "name": "stdout",
          "text": [
            "떡볶이 --> 오뎅\n",
            "짜장면 --> 단무지\n",
            "라면 --> 김치\n",
            "피자 --> 피클\n",
            "맥주 --> 치킨\n"
          ]
        },
        {
          "output_type": "execute_result",
          "data": {
            "text/plain": [
              "{'떡볶이': '오뎅', '짜장면': '단무지', '라면': '김치', '피자': '피클', '맥주': '치킨'}"
            ]
          },
          "metadata": {},
          "execution_count": 31
        }
      ]
    },
    {
      "cell_type": "code",
      "source": [
        "love = {'떡볶이': '오뎅', '짜장면': '단무지',\n",
        "        '라면': '김치', '피자': '피클', '맥주': '치킨'}\n",
        "\n",
        "print(love.keys())\n",
        "print(love.values())\n",
        "print(love.items())"
      ],
      "metadata": {
        "colab": {
          "base_uri": "https://localhost:8080/"
        },
        "id": "wLOZ3-0TIyfm",
        "outputId": "0919e3cb-35a6-4c08-f8aa-bed80326d142"
      },
      "id": "wLOZ3-0TIyfm",
      "execution_count": 32,
      "outputs": [
        {
          "output_type": "stream",
          "name": "stdout",
          "text": [
            "dict_keys(['떡볶이', '짜장면', '라면', '피자', '맥주'])\n",
            "dict_values(['오뎅', '단무지', '김치', '피클', '치킨'])\n",
            "dict_items([('떡볶이', '오뎅'), ('짜장면', '단무지'), ('라면', '김치'), ('피자', '피클'), ('맥주', '치킨')])\n"
          ]
        }
      ]
    },
    {
      "cell_type": "markdown",
      "id": "66025633",
      "metadata": {
        "id": "66025633"
      },
      "source": [
        "끝"
      ]
    }
  ],
  "metadata": {
    "kernelspec": {
      "display_name": "Python 3 (ipykernel)",
      "language": "python",
      "name": "python3"
    },
    "language_info": {
      "codemirror_mode": {
        "name": "ipython",
        "version": 3
      },
      "file_extension": ".py",
      "mimetype": "text/x-python",
      "name": "python",
      "nbconvert_exporter": "python",
      "pygments_lexer": "ipython3",
      "version": "3.10.9"
    },
    "vscode": {
      "interpreter": {
        "hash": "b41e41bff03a930185ac2cbea60ce521f7c8c2f5401ceb5c30214081f77ab4f5"
      }
    },
    "colab": {
      "provenance": [],
      "toc_visible": true,
      "include_colab_link": true
    }
  },
  "nbformat": 4,
  "nbformat_minor": 5
}