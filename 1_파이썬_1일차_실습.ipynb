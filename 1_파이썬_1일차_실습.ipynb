{
  "nbformat": 4,
  "nbformat_minor": 0,
  "metadata": {
    "colab": {
      "provenance": [],
      "authorship_tag": "ABX9TyO6LT4tNWp820lPdLPG8pLO",
      "include_colab_link": true
    },
    "kernelspec": {
      "name": "python3",
      "display_name": "Python 3"
    },
    "language_info": {
      "name": "python"
    }
  },
  "cells": [
    {
      "cell_type": "markdown",
      "metadata": {
        "id": "view-in-github",
        "colab_type": "text"
      },
      "source": [
        "<a href=\"https://colab.research.google.com/github/dev-aprilchoi/projectmanager/blob/main/1_%ED%8C%8C%EC%9D%B4%EC%8D%AC_1%EC%9D%BC%EC%B0%A8_%EC%8B%A4%EC%8A%B5.ipynb\" target=\"_parent\"><img src=\"https://colab.research.google.com/assets/colab-badge.svg\" alt=\"Open In Colab\"/></a>"
      ]
    },
    {
      "cell_type": "markdown",
      "source": [
        "# 파이썬 기초 프로그래밍 - 1일차 실습"
      ],
      "metadata": {
        "id": "2mF56D-4eY5J"
      }
    },
    {
      "cell_type": "markdown",
      "source": [
        "## 1.코랩에서 파이썬 사용하기\n",
        "\n",
        "\n",
        "\n",
        "\n",
        "\n",
        "---\n",
        "\n"
      ],
      "metadata": {
        "id": "Mf_L56ORelsA"
      }
    },
    {
      "cell_type": "markdown",
      "source": [
        "### 1-1.파이썬 실습 1일차"
      ],
      "metadata": {
        "id": "w6ygBNspgVlD"
      }
    },
    {
      "cell_type": "markdown",
      "source": [
        "#### 시작"
      ],
      "metadata": {
        "id": "ENcEXjgvgcF_"
      }
    },
    {
      "cell_type": "code",
      "source": [
        "import sys\n",
        "\n",
        "sys.version"
      ],
      "metadata": {
        "colab": {
          "base_uri": "https://localhost:8080/",
          "height": 35
        },
        "id": "ZucmZHMIe3c4",
        "outputId": "f28dc4bd-fa2e-4471-a4c4-bf3c37472419"
      },
      "execution_count": null,
      "outputs": [
        {
          "output_type": "execute_result",
          "data": {
            "text/plain": [
              "'3.10.12 (main, Jun 11 2023, 05:26:28) [GCC 11.4.0]'"
            ],
            "application/vnd.google.colaboratory.intrinsic+json": {
              "type": "string"
            }
          },
          "metadata": {},
          "execution_count": 1
        }
      ]
    },
    {
      "cell_type": "markdown",
      "source": [
        "* **간단 계산기 프로그램 작성하기**\n"
      ],
      "metadata": {
        "id": "p2bNBqL0fOF1"
      }
    },
    {
      "cell_type": "code",
      "source": [
        "a = 10\n",
        "b = 50\n",
        "print('덧셈: ', a + b)\n",
        "print('뺄셈: ', a - b)\n",
        "print('곱셈: ', a * b)\n",
        "print('나눗셈: ', a / b)\n"
      ],
      "metadata": {
        "colab": {
          "base_uri": "https://localhost:8080/"
        },
        "id": "EWDIr126fafU",
        "outputId": "0c342a59-0215-4949-dc30-16e5c07ea7fe"
      },
      "execution_count": null,
      "outputs": [
        {
          "output_type": "stream",
          "name": "stdout",
          "text": [
            "덧셈:  60\n",
            "뺄셈:  -40\n",
            "곱셈:  500\n",
            "나눗셈:  0.2\n"
          ]
        }
      ]
    }
  ]
}