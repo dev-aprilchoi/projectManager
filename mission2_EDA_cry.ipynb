{
  "nbformat": 4,
  "nbformat_minor": 0,
  "metadata": {
    "colab": {
      "provenance": [],
      "authorship_tag": "ABX9TyN3IFHazTbvWRMgOmNpoZAX",
      "include_colab_link": true
    },
    "kernelspec": {
      "name": "python3",
      "display_name": "Python 3"
    },
    "language_info": {
      "name": "python"
    }
  },
  "cells": [
    {
      "cell_type": "markdown",
      "metadata": {
        "id": "view-in-github",
        "colab_type": "text"
      },
      "source": [
        "<a href=\"https://colab.research.google.com/github/dev-aprilchoi/projectManager/blob/main/mission2_EDA_cry.ipynb\" target=\"_parent\"><img src=\"https://colab.research.google.com/assets/colab-badge.svg\" alt=\"Open In Colab\"/></a>"
      ]
    },
    {
      "cell_type": "markdown",
      "source": [
        "# 통계청 데이터 분석\n",
        "\n"
      ],
      "metadata": {
        "id": "FsBMOytt4hy3"
      }
    },
    {
      "cell_type": "markdown",
      "source": [
        "## 라이브러리 설치 확인하기"
      ],
      "metadata": {
        "id": "Z0YpCGL85dOW"
      }
    },
    {
      "cell_type": "code",
      "execution_count": 5,
      "metadata": {
        "colab": {
          "base_uri": "https://localhost:8080/",
          "height": 35
        },
        "id": "DScCbJxj30SS",
        "outputId": "1ed300e2-0406-4cc4-b87a-c77c69b1d40f"
      },
      "outputs": [
        {
          "output_type": "execute_result",
          "data": {
            "text/plain": [
              "'3.7.1'"
            ],
            "application/vnd.google.colaboratory.intrinsic+json": {
              "type": "string"
            }
          },
          "metadata": {},
          "execution_count": 5
        }
      ],
      "source": [
        "import pandas  as pd\n",
        "pd.__version__\n",
        "import numpy as np\n",
        "np.__version__\n",
        "import matplotlib as plt\n",
        "plt.__version__"
      ]
    },
    {
      "cell_type": "markdown",
      "source": [
        "## 코랩에서 한글 폰트 사용하기"
      ],
      "metadata": {
        "id": "pD3v4dmq5i8H"
      }
    },
    {
      "cell_type": "code",
      "source": [
        "!sudo apt-get install -y fonts-nanum\n",
        "!sudo fc-cache -fv\n",
        "!rm ~/.cache/matplotlib -rf"
      ],
      "metadata": {
        "colab": {
          "base_uri": "https://localhost:8080/"
        },
        "id": "Je7R_f5r5ml6",
        "outputId": "18914d48-f8f5-4dad-f12f-d0fa815fe011"
      },
      "execution_count": 6,
      "outputs": [
        {
          "output_type": "stream",
          "name": "stdout",
          "text": [
            "Reading package lists... Done\n",
            "Building dependency tree... Done\n",
            "Reading state information... Done\n",
            "The following NEW packages will be installed:\n",
            "  fonts-nanum\n",
            "0 upgraded, 1 newly installed, 0 to remove and 16 not upgraded.\n",
            "Need to get 10.3 MB of archives.\n",
            "After this operation, 34.1 MB of additional disk space will be used.\n",
            "Get:1 http://archive.ubuntu.com/ubuntu jammy/universe amd64 fonts-nanum all 20200506-1 [10.3 MB]\n",
            "Fetched 10.3 MB in 0s (50.3 MB/s)\n",
            "debconf: unable to initialize frontend: Dialog\n",
            "debconf: (No usable dialog-like program is installed, so the dialog based frontend cannot be used. at /usr/share/perl5/Debconf/FrontEnd/Dialog.pm line 78, <> line 1.)\n",
            "debconf: falling back to frontend: Readline\n",
            "debconf: unable to initialize frontend: Readline\n",
            "debconf: (This frontend requires a controlling tty.)\n",
            "debconf: falling back to frontend: Teletype\n",
            "dpkg-preconfigure: unable to re-open stdin: \n",
            "Selecting previously unselected package fonts-nanum.\n",
            "(Reading database ... 120893 files and directories currently installed.)\n",
            "Preparing to unpack .../fonts-nanum_20200506-1_all.deb ...\n",
            "Unpacking fonts-nanum (20200506-1) ...\n",
            "Setting up fonts-nanum (20200506-1) ...\n",
            "Processing triggers for fontconfig (2.13.1-4.2ubuntu5) ...\n",
            "/usr/share/fonts: caching, new cache contents: 0 fonts, 1 dirs\n",
            "/usr/share/fonts/truetype: caching, new cache contents: 0 fonts, 3 dirs\n",
            "/usr/share/fonts/truetype/humor-sans: caching, new cache contents: 1 fonts, 0 dirs\n",
            "/usr/share/fonts/truetype/liberation: caching, new cache contents: 16 fonts, 0 dirs\n",
            "/usr/share/fonts/truetype/nanum: caching, new cache contents: 12 fonts, 0 dirs\n",
            "/usr/local/share/fonts: caching, new cache contents: 0 fonts, 0 dirs\n",
            "/root/.local/share/fonts: skipping, no such directory\n",
            "/root/.fonts: skipping, no such directory\n",
            "/usr/share/fonts/truetype: skipping, looped directory detected\n",
            "/usr/share/fonts/truetype/humor-sans: skipping, looped directory detected\n",
            "/usr/share/fonts/truetype/liberation: skipping, looped directory detected\n",
            "/usr/share/fonts/truetype/nanum: skipping, looped directory detected\n",
            "/var/cache/fontconfig: cleaning cache directory\n",
            "/root/.cache/fontconfig: not cleaning non-existent cache directory\n",
            "/root/.fontconfig: not cleaning non-existent cache directory\n",
            "fc-cache: succeeded\n"
          ]
        }
      ]
    },
    {
      "cell_type": "markdown",
      "source": [
        "## 데이터 전처리하기"
      ],
      "metadata": {
        "id": "V4P2rj2m51xx"
      }
    },
    {
      "cell_type": "code",
      "source": [
        "import pandas as pd\n",
        "file = './sample_data/birthrate.csv'\n",
        "df = pd.read_csv(file, encoding='CP949')\n",
        "\n",
        "df\n",
        "\n",
        "# 컬럼명 확인하기\n",
        "df.columns\n",
        "\n",
        "# 열 이름 바꾸기(열 이름이 잘못 표기 되어있었다)\n",
        "df.rename(columns={\"시도별\":\"년도\"}, inplace=True)\n",
        "df\n",
        "\n",
        "# 최신 데이터(2022년)만 축출하기\n",
        "df_2022 = df[[\"년도\", \"2022\"]]\n",
        "df_2022\n",
        "\n",
        "# 행 추출 특정 컬럼값(시도) 추출\n",
        "print(f'출산율 데이터를 통해 가장 출산율이 높은 도시는?')\n",
        "# print('출산율이 가장 높은 도시는: ',df_2022['년도'].max() )\n",
        "# df_2022[ df_2022.2022 = df_2022.2022.max()] // df_2022 열을 바꾸려고 했는데 실패했습니다.\n"
      ],
      "metadata": {
        "colab": {
          "base_uri": "https://localhost:8080/",
          "height": 147
        },
        "id": "GLNIM_9P50WC",
        "outputId": "d2aef6c4-c53d-43ba-f7b6-656c743d140f"
      },
      "execution_count": 45,
      "outputs": [
        {
          "output_type": "error",
          "ename": "SyntaxError",
          "evalue": "ignored",
          "traceback": [
            "\u001b[0;36m  File \u001b[0;32m\"<ipython-input-45-a9c0e5e6bd9b>\"\u001b[0;36m, line \u001b[0;32m21\u001b[0m\n\u001b[0;31m    df_2022[ df_2022.2022 = df_2022.2022.max()]\u001b[0m\n\u001b[0m             ^\u001b[0m\n\u001b[0;31mSyntaxError\u001b[0m\u001b[0;31m:\u001b[0m invalid syntax. Perhaps you forgot a comma?\n"
          ]
        }
      ]
    }
  ]
}